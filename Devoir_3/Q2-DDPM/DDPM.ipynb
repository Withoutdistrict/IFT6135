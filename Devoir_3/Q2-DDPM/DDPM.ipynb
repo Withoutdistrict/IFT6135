{
 "cells": [
  {
   "cell_type": "markdown",
   "id": "RJIsW-Wskuzm",
   "metadata": {
    "id": "RJIsW-Wskuzm"
   },
   "source": [
    "# IFT6135-A2022\n",
    "# Assignment 3: Diffusion Practical\n",
    "\n",
    "You must fill in your answers to various questions in this notebook, following which you must export this notebook to a Python file named `ddpm_solution.py` and submit it on Gradescope.\n",
    "\n",
    "Only edit the functions specified in the PDF (and wherever marked – `# WRITE CODE HERE`). Do not change definitions or edit the rest of the template, else the autograder will not work.\n",
    "\n",
    "**Make sure you request a GPU runtime!**"
   ]
  },
  {
   "cell_type": "markdown",
   "id": "tzOCo7WPkof2",
   "metadata": {
    "id": "tzOCo7WPkof2"
   },
   "source": [
    "# Diffusion Basics\n",
    "\n",
    "Diffusion models are a new and recent class of generative models that rely on a forward diffusion process and a backward denoising process. The forward diffusion process adds a little bit of noise at each step, thus making the input image progressively noisier. On the other hand, the aim of the backward process is to denoise at each step, and is supposed to reverse the effect of the forward process. In this setup, only the backward process is parameterized by a learnable model while the forward process converges to something known, like $\\mathcal{N}(0, I)$. If the learning is done correctly and the backward process works well enough, it would ideally be able to progressively remove noise from complete noise and lead to a sample from the data distribution.\n",
    "\n",
    "Now, lets try to formalize this. Suppose our data samples come from the distribution $q(x_0)$. The forward distribution can be parameterized as \n",
    "\n",
    "\\begin{align*}\n",
    "q(x_t | x_{t-1}) = \\mathcal{N}(\\sqrt{1-\\beta_t} x_{t-1}, \\beta_t I)\n",
    "\\end{align*}\n",
    "\n",
    "where if we consider a finite number of timesteps T, then\n",
    "\n",
    "\\begin{align*}\n",
    "q(x_{1:T} | x_0) = \\prod_{t=1}^T q(x_t | x_{t-1})\n",
    "\\end{align*}\n",
    "\n",
    "where $\\beta_t$ are the hyperparameters that govern how quickly structure is destroyed in the forward process. One can see this as progressively adding more noise to the input data. One benefit of considering a gaussian distribution above is that it leads to a very nice property that the distribution $q(x_t | x_0)$ becomes known and tractable, so one is able to directly generate a sample from any point in the forward trajectory. In particular, with a bit of algebra, one can obtain\n",
    "\n",
    "\\begin{align*}\n",
    "q(x_t | x_0) = \\mathcal{N}(\\sqrt{\\bar{\\alpha}_t} x_0, (1 - \\bar{\\alpha}_t) I)\n",
    "\\end{align*}\n",
    "\n",
    "where $\\bar{\\alpha}_t = \\prod_{i=1}^t \\alpha_t$ and $\\alpha_t = 1 - \\beta_t$. And ideally we want to set $\\beta_t$'s such that $q(x_T | x_0) \\approx \\mathcal{N}(0, I)$.\n",
    "\n",
    "So far, we have obtained the forward structure-destroying diffusion process as well as how to sample directly from any point in the forward process conditioned on the initial conditions. Now, we want to learn a reverse process that takes us back from a noisy sample to something that has less noise. We do this by parameterizing this distribution with a Neural Network like\n",
    "\n",
    "\\begin{align*}\n",
    "  p_\\theta(x_{0:T}) = p(x_T) \\prod_{t=1}^T p_\\theta(x_{t-1} | x_t)\n",
    "\\end{align*}\n",
    "\n",
    "where we consider $p(x_T)$ as just $\\mathcal{N}(0, I)$ since at the end of the forward diffusion we are approximating that. Further, we also assume that each conditional above is parameterized as a gaussian distribution, that is\n",
    "\n",
    "\\begin{align*}\n",
    "  p_\\theta(x_{t-1} | x_t) = \\mathcal{N}(\\mu_\\theta(x_t, t), \\tilde{\\beta}_t)\n",
    "\\end{align*}\n",
    "\n",
    "where $\\tilde{\\beta}_t = \\frac{1 - \\bar{\\alpha}_{t-1}}{1 - \\bar{\\alpha}_t} \\beta_t$ which is because after doing some algebra, we can find that\n",
    "\n",
    "\\begin{align*}\n",
    "  q(x_{t-1} | x_t, x_0) = \\mathcal{N}(\\tilde{\\mu}_t, \\tilde{\\beta}_t)\n",
    "\\end{align*}\n",
    "\n",
    "where $\\tilde{\\mu}_t = \\frac{\\sqrt{\\alpha_t} ( 1 - \\bar{\\alpha}_{t-1})}{1 - \\bar{\\alpha}_t}x_t + \\frac{\\sqrt{\\bar{\\alpha}_{t-1}}\\beta_t}{1 - \\bar{\\alpha}_t}x_0$. \n",
    "\n",
    "This particular parameterization of $q(x_{t-1} | x_t, x_0)$ follows through by considering the Bayes rule combined with some algebra. Since the backward learned process is aimed to approximate the true backward process $q(x_{t-1} | x_t, x_0)$, it boils down to matching the means $\\tilde{\\mu}_t$ with $\\mu_\\theta(x_t)$ as the variances are kept the same by design. A little more algebraic manipulation and reparameterization tricks lead us to\n",
    "\n",
    "\\begin{align*}\n",
    "  \\tilde{\\mu}_t = \\frac{1}{\\sqrt{\\alpha_t}} \\left(x_t - \\frac{1 - \\alpha_t}{\\sqrt{1 - \\bar{\\alpha}_t}} \\epsilon_t\\right)\n",
    "\\end{align*}\n",
    "\n",
    "To match this, we need $\\mu_\\theta(x_t, t) = \\frac{1}{\\sqrt{\\alpha_t}} \\left(x_t - \\frac{1 - \\alpha_t}{\\sqrt{1 - \\bar{\\alpha}_t}} \\epsilon_t\\right)\n",
    "$\n",
    "\n",
    "Given this formulation for $\\mu_\\theta$, we can use reparameterization to get $x_{t-1}$ from $x_t$ as\n",
    "\n",
    "\\begin{align*}\n",
    "  x_{t-1} = \\frac{1}{\\sqrt{\\alpha_t}} \\left(x_t - \\frac{1 - \\alpha_t}{\\sqrt{1 - \\bar{\\alpha}_t}} \\epsilon_t\\right) + \\tilde{\\beta}_t \\epsilon\n",
    "\\end{align*}\n",
    "\n",
    "Thus, instead of parameterizing $\\mu_\\theta$ using a Neural Network, one can parameterize $\\epsilon_t$ using the network so that we can do the backward diffusion as\n",
    "\n",
    "\\begin{align*}\n",
    "  x_{t-1} = \\frac{1}{\\sqrt{\\alpha_t}} \\left(x_t - \\frac{1 - \\alpha_t}{\\sqrt{1 - \\bar{\\alpha}_t}} \\epsilon_\\theta(x_t, t)\\right) + \\tilde{\\beta}_t \\epsilon\n",
    "\\end{align*}\n",
    "\n",
    "In short, thus, we get a forward diffusion process parameterized as $q(x_t | x_{t-1} = \\mathcal{N}(\\sqrt{1 - \\beta_t} x_{t-1}, \\beta_t I)$ where one can sample $q(x_t | x_0)$ in one-shot in closed form without having to go through $t = 1, ..., t-1$. On the other hand, the backward process parameterizes the noise at time-step $t$, that is $\\epsilon_\\theta(x_t, t)$ which can be used to run the backward process as $p(x_{t-1} | x_t) = \\mathcal{N}(\\frac{1}{\\sqrt{\\alpha}_t} \\left(x_t - \\frac{1 - \\alpha_t}{\\sqrt{1 - \\bar{\\alpha}_t} }\\epsilon_\\theta(x_t, t)\\right), \\tilde{\\beta}_t I)$.\n",
    "\n",
    "And learning of this model leads to a simple objective function, which can be defined as \n",
    "\\begin{align*}\n",
    "\\mathbb{E}_{t\\sim \\mathcal{U}(1,T), x_0, \\epsilon_t} \\left[|| \\epsilon_t - \\epsilon_\\theta(\\sqrt{\\bar{\\alpha}_t} x_0 + \\sqrt{1 - \\bar{\\alpha}_t} \\epsilon_t, t) ||^2\\right]\n",
    "\\end{align*}\n",
    "\n",
    "For our settings, instead of the $L_2$ loss, we will use the huber loss, which is $L_1$ loss but near the origin, acts as an $L_2$ loss. For details, refer [here](https://pytorch.org/docs/stable/generated/torch.nn.SmoothL1Loss.html). For more details about diffusion models, please refer to the [DDPM paper](https://arxiv.org/abs/2006.11239) and the related [blog post](https://lilianweng.github.io/posts/2021-07-11-diffusion-models/)."
   ]
  },
  {
   "cell_type": "code",
   "execution_count": null,
   "id": "cOhvDFoG2yOg",
   "metadata": {
    "colab": {
     "base_uri": "https://localhost:8080/"
    },
    "executionInfo": {
     "elapsed": 11263,
     "status": "ok",
     "timestamp": 1679884555241,
     "user": {
      "displayName": "Reza Bayat",
      "userId": "09285745052056173937"
     },
     "user_tz": 240
    },
    "id": "cOhvDFoG2yOg",
    "outputId": "3373028b-09e7-4947-cfe1-f5a5853a86df"
   },
   "outputs": [],
   "source": [
    "# !pip install -q -U einops\n",
    "%matplotlib inline\n"
   ]
  },
  {
   "cell_type": "code",
   "execution_count": 1,
   "id": "a1f2d714",
   "metadata": {
    "colab": {
     "base_uri": "https://localhost:8080/"
    },
    "executionInfo": {
     "elapsed": 4011,
     "status": "ok",
     "timestamp": 1679884559246,
     "user": {
      "displayName": "Reza Bayat",
      "userId": "09285745052056173937"
     },
     "user_tz": 240
    },
    "id": "a1f2d714",
    "outputId": "8b9da75b-784a-4531-ded4-d71176a36cf0",
    "ExecuteTime": {
     "end_time": "2023-05-04T11:22:43.020660726Z",
     "start_time": "2023-05-04T11:22:41.757543027Z"
    }
   },
   "outputs": [],
   "source": [
    "import json\n",
    "import os\n",
    "import random\n",
    "import pickle\n",
    "import time\n",
    "import numpy\n",
    "import numpy as np\n",
    "from tqdm.auto import tqdm\n",
    "\n",
    "from inspect import isfunction\n",
    "from functools import partial\n",
    "import math\n",
    "from einops import rearrange\n",
    "\n",
    "import torch\n",
    "import torch.nn.functional as F\n",
    "from torch import nn\n",
    "from torch import einsum\n",
    "from torch.optim import Adam\n",
    "from torch.utils.data import DataLoader\n",
    "\n",
    "from torchvision import datasets\n",
    "from torchvision.utils import make_grid, save_image\n",
    "from torchvision import transforms\n",
    "\n",
    "import matplotlib\n",
    "# matplotlib.use(\"tkagg\")\n",
    "import matplotlib.pyplot as plt\n",
    "from pathlib import Path\n",
    "\n",
    "\n",
    "def fix_experiment_seed(seed=0):\n",
    "    random.seed(seed)\n",
    "    np.random.seed(seed)\n",
    "    torch.manual_seed(seed)\n",
    "    torch.cuda.manual_seed_all(seed)\n",
    "    torch.cuda.manual_seed(seed)\n",
    "    torch.backends.cudnn.deterministic = True\n",
    "    torch.backends.cudnn.benchmark = False\n",
    "\n",
    "\n",
    "fix_experiment_seed()\n",
    "\n",
    "results_folder = Path(\"./results\")\n",
    "results_folder.mkdir(exist_ok=True)\n",
    "device = \"cuda\" if torch.cuda.is_available() else \"cpu\""
   ]
  },
  {
   "cell_type": "code",
   "execution_count": 2,
   "id": "IQgPR2hN22xb",
   "metadata": {
    "id": "IQgPR2hN22xb",
    "ExecuteTime": {
     "end_time": "2023-05-04T11:22:43.024800579Z",
     "start_time": "2023-05-04T11:22:43.023424550Z"
    }
   },
   "outputs": [],
   "source": [
    "# Helper Functions\n",
    "def show_image(image, nrow=8):\n",
    "    # Input: image\n",
    "    # Displays the image using matplotlib\n",
    "    grid_img = make_grid(image.detach().cpu(), nrow=nrow, padding=0)\n",
    "    plt.imshow(grid_img.permute(1, 2, 0))\n",
    "    plt.axis('off')\n",
    "    plt.show()"
   ]
  },
  {
   "cell_type": "code",
   "execution_count": 3,
   "id": "adf23c43",
   "metadata": {
    "ExecuteTime": {
     "end_time": "2023-05-04T11:22:43.029059239Z",
     "start_time": "2023-05-04T11:22:43.027897126Z"
    }
   },
   "outputs": [],
   "source": [
    "def save_logs(dictionary, log_dir):\n",
    "    log_dir = os.path.join(log_dir)\n",
    "    os.makedirs(log_dir, exist_ok=True)\n",
    "    # Log arguments\n",
    "    with open(os.path.join(log_dir, \"log.json\"), \"w\") as f:\n",
    "        json.dump(dictionary, f, indent=2)"
   ]
  },
  {
   "cell_type": "markdown",
   "id": "Uu-S0tNpk56T",
   "metadata": {
    "id": "Uu-S0tNpk56T"
   },
   "source": [
    "## Set up the hyperparameters\n",
    "- Train Batch Size\n",
    "- Learning Rate\n",
    "- Diffusion timesteps: $T$\n",
    "- Starting variance: $\\beta_1$\n",
    "- Ending variance: $\\beta_T$"
   ]
  },
  {
   "cell_type": "code",
   "execution_count": 4,
   "id": "rcZzhdIHk6et",
   "metadata": {
    "id": "rcZzhdIHk6et",
    "ExecuteTime": {
     "end_time": "2023-05-04T11:22:43.033807046Z",
     "start_time": "2023-05-04T11:22:43.032224280Z"
    }
   },
   "outputs": [],
   "source": [
    "# Training Hyperparameters\n",
    "train_batch_size = 64  # Batch Size\n",
    "lr = 1e-4  # Learning Rate\n",
    "\n",
    "# Hyperparameters taken from Ho et. al for noise scheduling\n",
    "T = 1000  # Diffusion Timesteps\n",
    "beta_start = 0.0001  # Starting variance\n",
    "beta_end = 0.02  # Ending variance"
   ]
  },
  {
   "cell_type": "markdown",
   "id": "nMoN9FwA3Cws",
   "metadata": {
    "id": "nMoN9FwA3Cws"
   },
   "source": [
    "## Set up dataset, we are using SVHN dataset for this assignment.\n"
   ]
  },
  {
   "cell_type": "code",
   "execution_count": 5,
   "id": "Djm92b3dlAQ4",
   "metadata": {
    "id": "Djm92b3dlAQ4",
    "ExecuteTime": {
     "end_time": "2023-05-04T11:22:43.036478951Z",
     "start_time": "2023-05-04T11:22:43.034037950Z"
    }
   },
   "outputs": [],
   "source": [
    "# Define Dataset Statistics\n",
    "image_size = 32\n",
    "input_channels = 3\n",
    "data_root = './data'"
   ]
  },
  {
   "cell_type": "code",
   "execution_count": 6,
   "id": "fsKYAJTTlBaQ",
   "metadata": {
    "id": "fsKYAJTTlBaQ",
    "ExecuteTime": {
     "end_time": "2023-05-04T11:22:43.080220890Z",
     "start_time": "2023-05-04T11:22:43.039316914Z"
    }
   },
   "outputs": [],
   "source": [
    "def get_dataloaders(data_root, batch_size):\n",
    "    normalize = transforms.Normalize(mean=[0.5, 0.5, 0.5],\n",
    "                                     std=[0.5, 0.5, 0.5])\n",
    "    transform = transforms.Compose((\n",
    "        transforms.Resize((image_size, image_size)),\n",
    "        transforms.ToTensor(),\n",
    "        normalize))\n",
    "\n",
    "    train = datasets.SVHN(data_root, split='train', download=True, transform=transform)\n",
    "    test = datasets.SVHN(data_root, split='test', download=True, transform=transform)\n",
    "\n",
    "    train_dataloader = torch.utils.data.DataLoader(train, batch_size=batch_size, shuffle=True, drop_last=True)\n",
    "    test_dataloader = torch.utils.data.DataLoader(test, batch_size=batch_size)\n",
    "\n",
    "    return train_dataloader, test_dataloader"
   ]
  },
  {
   "cell_type": "markdown",
   "id": "YHQL39dhlDY-",
   "metadata": {
    "id": "YHQL39dhlDY-"
   },
   "source": [
    "## Visualize the Data\n",
    "\n",
    "Lets visualize what our data actually looks like! We are using the [SVHN dataset](http://ufldl.stanford.edu/housenumbers/) which comprises of images of house numbers seen from the streets."
   ]
  },
  {
   "cell_type": "code",
   "execution_count": 7,
   "id": "maXVk2OPlEeY",
   "metadata": {
    "colab": {
     "base_uri": "https://localhost:8080/",
     "height": 348,
     "referenced_widgets": [
      "669f7c671b9f4f49ab626a5a4831be3b",
      "e7444f48465546bb95e13e1c506f2116",
      "6cbde5f4313446768542bd4827352c19",
      "4938609cadef48cb839534dafefd7453",
      "400b2d2791ba43ebbaaa6ea00accfe85",
      "b7add0b764e145e7a43530d5da9d9e2a",
      "143e663d75b848fd99cd7322647a52bf",
      "f672d040f1d240d1954f001f52297faf",
      "bccf9808bacd4d01b7387dacfdfc47c6",
      "e8629527c9654a58a35229bf59f5bb4e",
      "26d5769ffffc4e969fc647e2b546670a",
      "5766d8f05f534fe3960944265d440832",
      "2f0e4fe1f4f2496b9ffd804c811c451e",
      "9e0833188c0c4553b33511e981c1c8be",
      "81f8fcbf02d04984bcd7767c86417146",
      "726cb0b510834f2da557ba864bfb7b46",
      "4172a6d41d514733bc20e4caec4cf751",
      "eab0718b0f224b7aa65f9d551ac009df",
      "1645db49a72f42b0ad826e5bce4ac1c3",
      "d188fb5019c241e78e7a280b2ee5062d",
      "fa0b225ca40d46b0834cc814c36411f9",
      "c63b76b634414f089532349b534e3b4b"
     ]
    },
    "executionInfo": {
     "elapsed": 28798,
     "status": "ok",
     "timestamp": 1679884608163,
     "user": {
      "displayName": "Reza Bayat",
      "userId": "09285745052056173937"
     },
     "user_tz": 240
    },
    "id": "maXVk2OPlEeY",
    "outputId": "11748e66-6cfe-46e9-80d4-044905b8ce73",
    "ExecuteTime": {
     "end_time": "2023-05-04T11:22:45.562210851Z",
     "start_time": "2023-05-04T11:22:43.080582801Z"
    }
   },
   "outputs": [
    {
     "name": "stdout",
     "output_type": "stream",
     "text": [
      "Using downloaded and verified file: ./data/train_32x32.mat\n",
      "Using downloaded and verified file: ./data/test_32x32.mat\n"
     ]
    },
    {
     "data": {
      "text/plain": "<Figure size 640x480 with 1 Axes>",
      "image/png": "[encoded data removed]"
     },
     "metadata": {},
     "output_type": "display_data"
    }
   ],
   "source": [
    "# Visualize the Dataset\n",
    "def visualize():\n",
    "    train_dataloader, _ = get_dataloaders(data_root=data_root, batch_size=train_batch_size)\n",
    "    imgs, labels = next(iter(train_dataloader))\n",
    "\n",
    "    save_image((imgs + 1) * 0.5, './results/orig.png')\n",
    "    show_image((imgs + 1) * 0.5)\n",
    "\n",
    "\n",
    "if __name__ == '__main__':\n",
    "    visualize()"
   ]
  },
  {
   "cell_type": "markdown",
   "id": "uAPXFtg5xCrO",
   "metadata": {
    "id": "uAPXFtg5xCrO"
   },
   "source": [
    "## Helper Functions / Building Blocks\n",
    "\n",
    "Here we provide some helper functions and building blocks that will allow us to create the U-Net network that parameterizes the backward noise prediction network in diffusion models."
   ]
  },
  {
   "cell_type": "code",
   "execution_count": 8,
   "id": "bcoqMfVTTniW",
   "metadata": {
    "id": "bcoqMfVTTniW",
    "ExecuteTime": {
     "end_time": "2023-05-04T11:22:45.567571846Z",
     "start_time": "2023-05-04T11:22:45.561981233Z"
    }
   },
   "outputs": [],
   "source": [
    "def exists(x):\n",
    "    return x is not None\n",
    "\n",
    "\n",
    "def default(val, d):\n",
    "    if exists(val):\n",
    "        return val\n",
    "    return d() if isfunction(d) else d\n",
    "\n",
    "\n",
    "class Residual(nn.Module):\n",
    "    def __init__(self, fn):\n",
    "        super().__init__()\n",
    "        self.fn = fn\n",
    "\n",
    "    def forward(self, x, *args, **kwargs):\n",
    "        return self.fn(x, *args, **kwargs) + x\n",
    "\n",
    "\n",
    "def Upsample(dim):\n",
    "    return nn.ConvTranspose2d(dim, dim, 4, 2, 1)\n",
    "\n",
    "\n",
    "def Downsample(dim):\n",
    "    return nn.Conv2d(dim, dim, 4, 2, 1)\n",
    "\n",
    "\n",
    "class SinusoidalPositionEmbeddings(nn.Module):\n",
    "    def __init__(self, dim):\n",
    "        super().__init__()\n",
    "        self.dim = dim\n",
    "\n",
    "    def forward(self, time):\n",
    "        device = time.device\n",
    "        half_dim = self.dim // 2\n",
    "        embeddings = math.log(10000) / (half_dim - 1)\n",
    "        embeddings = torch.exp(torch.arange(half_dim, device=device) * -embeddings)\n",
    "        embeddings = time[:, None] * embeddings[None, :]\n",
    "        embeddings = torch.cat((embeddings.sin(), embeddings.cos()), dim=-1)\n",
    "        return embeddings\n",
    "\n",
    "\n",
    "class Block(nn.Module):\n",
    "    def __init__(self, dim, dim_out, groups=8):\n",
    "        super().__init__()\n",
    "        self.proj = nn.Conv2d(dim, dim_out, 3, padding=1)\n",
    "        self.norm = nn.GroupNorm(groups, dim_out)\n",
    "        self.act = nn.SiLU()\n",
    "\n",
    "    def forward(self, x, scale_shift=None):\n",
    "        x = self.proj(x)\n",
    "        x = self.norm(x)\n",
    "\n",
    "        if exists(scale_shift):\n",
    "            scale, shift = scale_shift\n",
    "            x = x * (scale + 1) + shift\n",
    "\n",
    "        x = self.act(x)\n",
    "        return x\n",
    "\n",
    "\n",
    "class ResnetBlock(nn.Module):\n",
    "    \"\"\"https://arxiv.org/abs/1512.03385\"\"\"\n",
    "\n",
    "    def __init__(self, dim, dim_out, *, time_emb_dim=None, groups=8):\n",
    "        super().__init__()\n",
    "        self.mlp = (\n",
    "            nn.Sequential(nn.SiLU(), nn.Linear(time_emb_dim, dim_out))\n",
    "            if exists(time_emb_dim)\n",
    "            else None\n",
    "        )\n",
    "\n",
    "        self.block1 = Block(dim, dim_out, groups=groups)\n",
    "        self.block2 = Block(dim_out, dim_out, groups=groups)\n",
    "        self.res_conv = nn.Conv2d(dim, dim_out, 1) if dim != dim_out else nn.Identity()\n",
    "\n",
    "    def forward(self, x, time_emb=None):\n",
    "        h = self.block1(x)\n",
    "\n",
    "        if exists(self.mlp) and exists(time_emb):\n",
    "            time_emb = self.mlp(time_emb)\n",
    "            h = rearrange(time_emb, \"b c -> b c 1 1\") + h\n",
    "\n",
    "        h = self.block2(h)\n",
    "        return h + self.res_conv(x)\n",
    "\n",
    "\n",
    "class Attention(nn.Module):\n",
    "    def __init__(self, dim, heads=4, dim_head=32):\n",
    "        super().__init__()\n",
    "        self.scale = dim_head ** -0.5\n",
    "        self.heads = heads\n",
    "        hidden_dim = dim_head * heads\n",
    "        self.to_qkv = nn.Conv2d(dim, hidden_dim * 3, 1, bias=False)\n",
    "        self.to_out = nn.Conv2d(hidden_dim, dim, 1)\n",
    "\n",
    "    def forward(self, x):\n",
    "        b, c, h, w = x.shape\n",
    "        qkv = self.to_qkv(x).chunk(3, dim=1)\n",
    "        q, k, v = map(lambda t: rearrange(t, \"b (h c) x y -> b h c (x y)\", h=self.heads), qkv)\n",
    "        q = q * self.scale\n",
    "\n",
    "        sim = einsum(\"b h d i, b h d j -> b h i j\", q, k)\n",
    "        sim = sim - sim.amax(dim=-1, keepdim=True).detach()\n",
    "        attn = sim.softmax(dim=-1)\n",
    "\n",
    "        out = einsum(\"b h i j, b h d j -> b h i d\", attn, v)\n",
    "        out = rearrange(out, \"b h (x y) d -> b (h d) x y\", x=h, y=w)\n",
    "        return self.to_out(out)\n",
    "\n",
    "\n",
    "class LinearAttention(nn.Module):\n",
    "    def __init__(self, dim, heads=4, dim_head=32):\n",
    "        super().__init__()\n",
    "        self.scale = dim_head ** -0.5\n",
    "        self.heads = heads\n",
    "        hidden_dim = dim_head * heads\n",
    "        self.to_qkv = nn.Conv2d(dim, hidden_dim * 3, 1, bias=False)\n",
    "\n",
    "        self.to_out = nn.Sequential(nn.Conv2d(hidden_dim, dim, 1), nn.GroupNorm(1, dim))\n",
    "\n",
    "    def forward(self, x):\n",
    "        b, c, h, w = x.shape\n",
    "        qkv = self.to_qkv(x).chunk(3, dim=1)\n",
    "        q, k, v = map(lambda t: rearrange(t, \"b (h c) x y -> b h c (x y)\", h=self.heads), qkv)\n",
    "\n",
    "        q = q.softmax(dim=-2)\n",
    "        k = k.softmax(dim=-1)\n",
    "\n",
    "        q = q * self.scale\n",
    "        context = torch.einsum(\"b h d n, b h e n -> b h d e\", k, v)\n",
    "\n",
    "        out = torch.einsum(\"b h d e, b h d n -> b h e n\", context, q)\n",
    "        out = rearrange(out, \"b h c (x y) -> b (h c) x y\", h=self.heads, x=h, y=w)\n",
    "        return self.to_out(out)\n",
    "\n",
    "\n",
    "class PreNorm(nn.Module):\n",
    "    def __init__(self, dim, fn):\n",
    "        super().__init__()\n",
    "        self.fn = fn\n",
    "        self.norm = nn.GroupNorm(1, dim)\n",
    "\n",
    "    def forward(self, x):\n",
    "        x = self.norm(x)\n",
    "        return self.fn(x)"
   ]
  },
  {
   "cell_type": "code",
   "execution_count": 9,
   "id": "nPAGPDEIUKQF",
   "metadata": {
    "id": "nPAGPDEIUKQF",
    "ExecuteTime": {
     "end_time": "2023-05-04T11:22:45.634160550Z",
     "start_time": "2023-05-04T11:22:45.569054055Z"
    }
   },
   "outputs": [],
   "source": [
    "class Unet(nn.Module):\n",
    "    def __init__(self, dim, init_dim=None, out_dim=None, dim_mults=(1, 2, 4, 8), channels=3, with_time_emb=True,\n",
    "                 resnet_block_groups=8, ):\n",
    "        super().__init__()\n",
    "\n",
    "        # determine dimensions\n",
    "        self.channels = channels\n",
    "\n",
    "        init_dim = default(init_dim, dim // 3 * 2)\n",
    "        self.init_conv = nn.Conv2d(channels, init_dim, 7, padding=3)\n",
    "\n",
    "        dims = [init_dim, *map(lambda m: dim * m, dim_mults)]\n",
    "        in_out = list(zip(dims[:-1], dims[1:]))\n",
    "\n",
    "        block_klass = partial(ResnetBlock, groups=resnet_block_groups)\n",
    "\n",
    "        # time embeddings\n",
    "        if with_time_emb:\n",
    "            time_dim = dim * 4\n",
    "            self.time_mlp = nn.Sequential(SinusoidalPositionEmbeddings(dim),\n",
    "                                          nn.Linear(dim, time_dim),\n",
    "                                          nn.GELU(),\n",
    "                                          nn.Linear(time_dim, time_dim), )\n",
    "        else:\n",
    "            time_dim = None\n",
    "            self.time_mlp = None\n",
    "\n",
    "        # layers\n",
    "        self.downs = nn.ModuleList([])\n",
    "        self.ups = nn.ModuleList([])\n",
    "        num_resolutions = len(in_out)\n",
    "\n",
    "        for ind, (dim_in, dim_out) in enumerate(in_out):\n",
    "            is_last = ind >= (num_resolutions - 1)\n",
    "\n",
    "            self.downs.append(\n",
    "                nn.ModuleList(\n",
    "                    [\n",
    "                        block_klass(dim_in, dim_out, time_emb_dim=time_dim),\n",
    "                        block_klass(dim_out, dim_out, time_emb_dim=time_dim),\n",
    "                        Residual(PreNorm(dim_out, LinearAttention(dim_out))),\n",
    "                        Downsample(dim_out) if not is_last else nn.Identity(),\n",
    "                        ]\n",
    "                    )\n",
    "                )\n",
    "\n",
    "        mid_dim = dims[-1]\n",
    "        self.mid_block1 = block_klass(mid_dim, mid_dim, time_emb_dim=time_dim)\n",
    "        self.mid_attn = Residual(PreNorm(mid_dim, Attention(mid_dim)))\n",
    "        self.mid_block2 = block_klass(mid_dim, mid_dim, time_emb_dim=time_dim)\n",
    "\n",
    "        for ind, (dim_in, dim_out) in enumerate(reversed(in_out[1:])):\n",
    "            is_last = ind >= (num_resolutions - 1)\n",
    "\n",
    "            self.ups.append(\n",
    "                nn.ModuleList(\n",
    "                    [\n",
    "                        block_klass(dim_out * 2, dim_in, time_emb_dim=time_dim),\n",
    "                        block_klass(dim_in, dim_in, time_emb_dim=time_dim),\n",
    "                        Residual(PreNorm(dim_in, LinearAttention(dim_in))),\n",
    "                        Upsample(dim_in) if not is_last else nn.Identity(),\n",
    "                        ]\n",
    "                    )\n",
    "                )\n",
    "\n",
    "        out_dim = default(out_dim, channels)\n",
    "        self.final_conv = nn.Sequential(\n",
    "            block_klass(dim, dim), nn.Conv2d(dim, out_dim, 1)\n",
    "            )\n",
    "\n",
    "    def forward(self, x, time):\n",
    "        # Returns the noise prediction from the noisy image x at time t\n",
    "        # Inputs:\n",
    "        #   x: noisy image tensor of size (batch_size, 3, 32, 32)\n",
    "        #   t: time-step tensor of size (batch_size,)\n",
    "        #   x[i] contains image i which has been added noise amount corresponding to t[i]\n",
    "        # Returns:\n",
    "        #   noise_pred: noise prediction made from the model, size (batch_size, 3, 32, 32)\n",
    "\n",
    "        x = self.init_conv(x)\n",
    "        t = self.time_mlp(time) if exists(self.time_mlp) else None\n",
    "        h = []\n",
    "\n",
    "        # downsample\n",
    "        for block1, block2, attn, downsample in self.downs:\n",
    "            x = block1(x, t)\n",
    "            x = block2(x, t)\n",
    "            x = attn(x)\n",
    "            h.append(x)\n",
    "            x = downsample(x)\n",
    "\n",
    "        # bottleneck\n",
    "        x = self.mid_block1(x, t)\n",
    "        x = self.mid_attn(x)\n",
    "        x = self.mid_block2(x, t)\n",
    "\n",
    "        # upsample\n",
    "        for block1, block2, attn, upsample in self.ups:\n",
    "            x = torch.cat((x, h.pop()), dim=1)\n",
    "            x = block1(x, t)\n",
    "            x = block2(x, t)\n",
    "            x = attn(x)\n",
    "            x = upsample(x)\n",
    "\n",
    "        noise_pred = self.final_conv(x)\n",
    "        return noise_pred"
   ]
  },
  {
   "cell_type": "markdown",
   "id": "a30368b2",
   "metadata": {
    "id": "a30368b2"
   },
   "source": [
    "We define a helper function *extract* which takes as input a tensor *a* and an index tesor *t* and returns another tensor where the $i^{th}$ element of this new tensor corresponds to $a[t[i]]$."
   ]
  },
  {
   "cell_type": "code",
   "execution_count": 10,
   "id": "B_k8rLDFzJ1C",
   "metadata": {
    "id": "B_k8rLDFzJ1C",
    "ExecuteTime": {
     "end_time": "2023-05-04T11:22:45.634628294Z",
     "start_time": "2023-05-04T11:22:45.610698050Z"
    }
   },
   "outputs": [],
   "source": [
    "def extract(a, t, x_shape):\n",
    "    # Takes a data tensor a and an index tensor t, and returns a new tensor\n",
    "    # whose i^th element is just a[t[i]]. Note that this will be useful when\n",
    "    # we would want to choose the alphas or betas corresponding to different\n",
    "    # indices t's in a batched manner without for loops.\n",
    "    # Inputs:\n",
    "    #   a: Tensor, generally of shape (batch_size,)\n",
    "    #   t: Tensor, generally of shape (batch_size,)\n",
    "    #   x_shape: Shape of the data, generally (batch_size, 3, 32, 32)\n",
    "    # Returns:\n",
    "    #   out: Tensor of shape (batch_size, 1, 1, 1) generally, the number of 1s are\n",
    "    #         determined by the number of dimensions in x_shape.\n",
    "    #         out[i] contains a[t[i]]\n",
    "\n",
    "    batch_size = t.shape[0]\n",
    "    out = a.gather(-1, t.cpu())\n",
    "    return out.reshape(batch_size, *((1,) * (len(x_shape) - 1))).to(t.device)"
   ]
  },
  {
   "cell_type": "markdown",
   "id": "2EnfxY7ZFFAQ",
   "metadata": {
    "id": "2EnfxY7ZFFAQ"
   },
   "source": [
    "Now, we define the different coefficients that are required in the diffusion process. In particular, we need to define the following tensors, all of which are of size $(T,)$. Also note that we are using indexing starting from 1 here, in the code all the variables with $t=1$ are set at position 0. Your task is to compute\n",
    "\n",
    "- betas: Contains $\\beta_t$ from the linear scheduling between $\\beta_1$ and $\\beta_T$, sampled over $T$ intervals\n",
    "- alphas: Contains $\\alpha_t = 1-\\beta_t$\n",
    "- sqrt_recip_alphas: Contains $\\frac{1.}{\\sqrt{{\\alpha}_t}}$\n",
    "- alphas_cumprod: Contains $\\bar{\\alpha}_t = \\prod_{i=1}^t \\alpha_i$\n",
    "- sqrt_alphas_cumprod: Contains $\\sqrt{\\bar{\\alpha}_t}$\n",
    "- sqrt_one_minus_alphas_cumprod: Contains $\\sqrt{1 - \\bar{\\alpha}_t}$\n",
    "- alphas_cumprod_prev: Right shift $\\bar{\\alpha}_t$; thus contains $\\prod_{i=1}^{t-1} \\alpha_i$ with the first element as 1.\n",
    "- posterior_variance: Contains $\\tilde{\\beta}_t = \\frac{1 - \\bar{\\alpha}_{t-1}}{1 - \\bar{\\alpha}_t} \\beta_t$\n",
    "\n",
    "**Hint:** *For computing cumulative products and right shifting, one can refer to certain PyTorch's functions that allow you to do both in a single line*"
   ]
  },
  {
   "cell_type": "code",
   "execution_count": 11,
   "id": "5d751df2",
   "metadata": {
    "id": "5d751df2",
    "ExecuteTime": {
     "end_time": "2023-05-04T11:22:45.635264028Z",
     "start_time": "2023-05-04T11:22:45.611182516Z"
    }
   },
   "outputs": [],
   "source": [
    "def linear_beta_schedule(beta_start, beta_end, timesteps):\n",
    "    return torch.linspace(beta_start, beta_end, timesteps)\n",
    "\n",
    "\n",
    "betas = linear_beta_schedule(beta_start, beta_end, T)  # WRITE CODE HERE: Define the linear beta schedule\n",
    "alphas = 1 - betas  # WRITE CODE HERE: Compute the alphas as 1 - betas\n",
    "sqrt_recip_alphas = alphas.sqrt() ** -1  # WRITE CODE HERE: Returns 1/square_root(\\alpha_t)\n",
    "alphas_cumprod = alphas.cumprod(dim=0)  # WRITE CODE HERE: Compute product of alphas up to index t, \\bar{\\alpha}\n",
    "sqrt_alphas_cumprod = alphas_cumprod.sqrt()  # WRITE CODE HERE: Returns sqaure_root(\\bar{\\alpha}_t)\n",
    "sqrt_one_minus_alphas_cumprod = (1 - alphas_cumprod).sqrt()  # WRITE CODE HERE: Returns square_root(1 - \\bar{\\alpha}_t)\n",
    "\n",
    "# WRITE CODE HERE: Right shifts \\bar{\\alpha}_t; with first element as 1.\n",
    "alphas_cumprod_prev = F.pad(alphas_cumprod, pad=[1, 0], value=1)[:T]\n",
    "\n",
    "# WRITE CODE HERE: Contains the posterior variances $\\tilde{\\beta}_t$\n",
    "posterior_variance = (1 - alphas_cumprod_prev) / (1 - alphas_cumprod) * betas"
   ]
  },
  {
   "cell_type": "markdown",
   "id": "nJmq5Q0mJkBX",
   "metadata": {
    "id": "nJmq5Q0mJkBX"
   },
   "source": [
    "# Forward Diffusion Process\n",
    "\n",
    "To define the forward diffusion, we need to model the distribution $q(x_t | x_0)$ in a manner that does not go through $t = 1, ..., t-1$. In particular, as defined at the start, we can obtain the distribution as\n",
    "\n",
    "\\begin{align*}\n",
    "  q(x_t | x_0) = \\mathcal{N}(\\sqrt{\\bar{\\alpha}_t} x_0, (1 - \\bar{\\alpha}_t) I)\n",
    "\\end{align*}\n",
    "\n",
    "Since you have already computed the required coefficients above, your task is to now complete the function q_sample which takes $(x_0, t)$ as input and returns a sample from $q(x_t | x_0)$ in a batched manner, that is, in parallel for a batch of $x_0$'s and a batch of different timesteps $t$. You can use the extract function provided to get the coefficients at the right timesteps."
   ]
  },
  {
   "cell_type": "code",
   "execution_count": 12,
   "id": "f3752480",
   "metadata": {
    "id": "f3752480",
    "ExecuteTime": {
     "end_time": "2023-05-04T11:22:45.635533371Z",
     "start_time": "2023-05-04T11:22:45.611581779Z"
    }
   },
   "outputs": [],
   "source": [
    "def q_sample(x_start, t, noise=None):\n",
    "    # Forward Diffusion Sampling Process\n",
    "    # Inputs:\n",
    "    #   x_start: Tensor of original images of size (batch_size, 3, 32, 32)\n",
    "    #   t: Tensor of timesteps, of shape (batch_size,)\n",
    "    #   noise: Optional tensor of same shape as x_start, signifying that the noise to add is already provided.\n",
    "    # Returns:\n",
    "    #   x_noisy: Tensor of noisy images of size (batch_size, 3, 32, 32)\n",
    "    #             x_noisy[i] is sampled from q(x_{t[i]} | x_start[i])\n",
    "\n",
    "    if noise is None:\n",
    "        noise = torch.randn_like(x_start)\n",
    "\n",
    "    sqrt_alphas_cumprod_t = extract(sqrt_alphas_cumprod, t, x_start.shape)  # WRITE CODE HERE: Obtain the cumulative product sqrt_alphas_cumprod up to a given point t in a batched manner for different t's\n",
    "    sqrt_one_minus_alphas_cumprod_t = extract(sqrt_one_minus_alphas_cumprod, t, x_start.shape)  # WRITE CODE HERE: Same as above, but for sqrt_one_minus_alphas_cumprod\n",
    "\n",
    "    # WRITE CODE HERE: Given the above co-efficients and the noise, generate a noisy sample based on q(x_t | x_0)\n",
    "    x_noisy = (sqrt_alphas_cumprod_t * x_start + sqrt_one_minus_alphas_cumprod_t * noise)\n",
    "\n",
    "    return x_noisy"
   ]
  },
  {
   "cell_type": "markdown",
   "id": "e82bac28",
   "metadata": {
    "id": "e82bac28"
   },
   "source": [
    "Let's test the forward diffusion process on a particular image sample. We will see that the sample progressively loses all structure and ends up close to completely random noise."
   ]
  },
  {
   "cell_type": "code",
   "execution_count": 13,
   "id": "6bd64f89",
   "metadata": {
    "id": "6bd64f89",
    "ExecuteTime": {
     "end_time": "2023-05-04T11:22:48.015216469Z",
     "start_time": "2023-05-04T11:22:45.612055691Z"
    }
   },
   "outputs": [
    {
     "name": "stdout",
     "output_type": "stream",
     "text": [
      "Using downloaded and verified file: ./data/train_32x32.mat\n",
      "Using downloaded and verified file: ./data/test_32x32.mat\n"
     ]
    },
    {
     "data": {
      "text/plain": "<Figure size 640x480 with 1 Axes>",
      "image/png": "[encoded data removed]"
     },
     "metadata": {},
     "output_type": "display_data"
    }
   ],
   "source": [
    "def visualize_diffusion():\n",
    "    train_dataloader, _ = get_dataloaders(data_root=data_root, batch_size=train_batch_size)\n",
    "    imgs, _ = next(iter(train_dataloader))\n",
    "    sample = imgs[3].unsqueeze(0)\n",
    "    noisy_images = [sample] + [q_sample(sample, torch.tensor([100 * t + 99])) for t in range(10)]\n",
    "    noisy_images = (torch.cat(noisy_images, dim=0) + 1.) * 0.5\n",
    "    show_image(noisy_images.clamp(0., 1.), nrow=11)\n",
    "\n",
    "\n",
    "if __name__ == '__main__':\n",
    "    visualize_diffusion()"
   ]
  },
  {
   "cell_type": "markdown",
   "id": "0SkxPpp-LeDO",
   "metadata": {
    "id": "0SkxPpp-LeDO"
   },
   "source": [
    "# Backward Learned Diffusion Process\n",
    "\n",
    "Now suppose you have access to the model $\\epsilon_\\theta$ in the above description of diffusion models. We know that given a noisy sample $x_t$, one can obtain a slightly denoised version of this sample through the distribution $p_\\theta(x_{t-1} | x_t)$, which in our setup is now defined as\n",
    "\n",
    "\\begin{align*}\n",
    "p_\\theta(x_{t-1} | x_t) = \\mathcal{N}(\\frac{1}{\\sqrt{\\alpha_t}}\\left(x_t - \\frac{1 - \\alpha_t}{\\sqrt{1 - \\bar{\\alpha}_t}}\\epsilon_\\theta(x_t, t)\\right), \\tilde{\\beta}_t I)\n",
    "\\end{align*}\n",
    "\n",
    "Below, the task is to complete the function p_sample that takes as input the denoising model $\\epsilon_\\theta$, a batched noisy image $x$, a batched time-step $t$ and a scalar $t\\_index$, and it has to return a sample from $p(x_{t-1} | x_t)$. In the case that $t=1$ (or in code, $t=0$), please just return the mode instead of a sample. For doing this if-condition, you can use $t\\_index$ which is just a scalar instead of its batched variant $t$.\n",
    "\n",
    "Note that all the coefficients $\\bar{\\alpha}_t$, etc. are already computed above for all $t$, so use the extract function provided to obtain them at different corresponding timesteps."
   ]
  },
  {
   "cell_type": "code",
   "execution_count": 14,
   "id": "f7628fb3",
   "metadata": {
    "id": "f7628fb3",
    "ExecuteTime": {
     "end_time": "2023-05-04T11:22:48.016076318Z",
     "start_time": "2023-05-04T11:22:48.014949373Z"
    }
   },
   "outputs": [],
   "source": [
    "def p_sample(model, x, t, t_index):\n",
    "    # Given the denoising model, batched input x, and time-step t, returns a slightly denoised sample at time-step t-1\n",
    "    # Inputs:\n",
    "    #   model: The denoising (parameterized noise) model\n",
    "    #   x: Batched noisy input at time t; size (batch_size, 3, 32, 32)\n",
    "    #   t: Batched time steps; size (batch_size,)\n",
    "    #   t_index: Single time-step, whose batched version is present in t\n",
    "    # Returns:\n",
    "    #   sample: A sample from the distribution p_\\theta(x_{t-1} | x_t); mode if t=0\n",
    "    with torch.no_grad():\n",
    "        betas_t = extract(betas, t, x.shape)  # WRITE CODE HERE: Similar to q_sample, extract betas for specific t's\n",
    "        sqrt_one_minus_alphas_cumprod_t = extract(sqrt_one_minus_alphas_cumprod, t, x.shape)  # WRITE CODE HERE: Same as above, but for sqrt_one_minus_alphas_cumprod\n",
    "        sqrt_recip_alphas_t = extract(sqrt_recip_alphas, t, x.shape)  # WRITE CODE HERE: Same as above, but for sqrt_recip_alphas\n",
    "\n",
    "        # WRITE CODE HERE: Obtain the mean of the distribution p_\\theta(x_{t-1} | x_t)\n",
    "        p_mean = (sqrt_recip_alphas_t * (x - betas_t / sqrt_one_minus_alphas_cumprod_t * model(x, t)))\n",
    "\n",
    "        if t_index == 0:\n",
    "            sample = p_mean  # WRITE CODE HERE: Set the sample as the mode\n",
    "        else:\n",
    "            posterior_variance_t = extract(posterior_variance, t, x.shape)  # WRITE CODE HERE: Same as betas_t, but for posterior_variance\n",
    "            # WRITE CODE HERE\n",
    "            # Generate a sample from p_\\theta(x_{t-1} | x_t) by generating some noise\n",
    "            # Followed by reparameterization to obtain distribution from the mean and variance computed above.\n",
    "            e_noise = torch.randn(size=x.shape, device=device)\n",
    "            sample = p_mean + torch.pow(posterior_variance_t, 0.5) * e_noise\n",
    "\n",
    "        return sample\n",
    "\n",
    "\n",
    "def p_sample_loop(model, shape, timesteps):\n",
    "    # Given the model, and the shape of the image, returns a sample from the data distribution by running through the backward diffusion process.\n",
    "    # Inputs:\n",
    "    #   model: The denoising model\n",
    "    #   shape: Shape of the samples; set as (batch_size, 3, 32, 32)\n",
    "    # Returns:\n",
    "    #   imgs: Samples obtained, as well as intermediate denoising steps, of shape (T, batch_size, 3, 32, 32)\n",
    "    with torch.no_grad():\n",
    "        b = shape[0]\n",
    "        # Start from Pure Noise (x_T)\n",
    "        img = torch.randn(shape, device=device)\n",
    "        imgs = []\n",
    "\n",
    "        for i in tqdm(reversed(range(0, timesteps)), desc='Sampling', total=T, leave=False):\n",
    "            # WRITE CODE HERE: Use the p_sample function to denoise from timestep t to timestep t-1\n",
    "            img = p_sample(model, img, torch.full(size=(b,), fill_value=i, device=device), i)\n",
    "            imgs.append(img.cpu())\n",
    "\n",
    "        return torch.stack(imgs)\n",
    "\n",
    "\n",
    "def sample(model, image_size, batch_size=16, channels=3):\n",
    "    # Returns a sample by running the sampling loop\n",
    "    with torch.no_grad():\n",
    "        return p_sample_loop(model, shape=(batch_size, channels, image_size, image_size), timesteps=T)"
   ]
  },
  {
   "cell_type": "markdown",
   "id": "J83yuyoppec0",
   "metadata": {
    "id": "J83yuyoppec0"
   },
   "source": [
    "# Define the Loss\n",
    "\n",
    "Now that we have both the forward and the backward diffusion process ready, we need a training criterion. In the introduction, we already saw that the optimization objective for training is to minimize:\n",
    "\n",
    "\\begin{align*}\n",
    "\\mathbb{E}_{t\\sim \\mathcal{U}(1,T), x_0, \\epsilon_t} \\left[|| \\epsilon_t - \\epsilon_\\theta(\\sqrt{\\bar{\\alpha}_t} x_0 + \\sqrt{1 - \\bar{\\alpha}_t} \\epsilon_t, t) ||^2\\right]\n",
    "\\end{align*}\n",
    "\n",
    "This boils down to\n",
    "\n",
    "- Generating some gaussian noise from $\\mathcal{N}(0, I)$.\n",
    "- Getting the noisy images at time $t$ in a batched, one-shot fashion.\n",
    "- Getting the estimate of noise from the noisy images.\n",
    "- Computing the loss between the estimate of noise and the actual noise.\n",
    "\n",
    "In practice here, we will use the **huber** loss instead of the squared loss; so please implement that. Feel free to use PyTorch's criterion to get the huber loss formulation."
   ]
  },
  {
   "cell_type": "code",
   "execution_count": 15,
   "id": "7725f6cf",
   "metadata": {
    "id": "7725f6cf",
    "ExecuteTime": {
     "end_time": "2023-05-04T11:22:48.016469041Z",
     "start_time": "2023-05-04T11:22:48.015494766Z"
    }
   },
   "outputs": [],
   "source": [
    "def p_losses(denoise_model, x_start, t):\n",
    "    # Returns the loss for training of the denoise model\n",
    "    # Inputs:\n",
    "    #   denoise_model: The parameterized model\n",
    "    #   x_start: The original images; size (batch_size, 3, 32, 32)\n",
    "    #   t: Timesteps (can be different at different indices); size (batch_size,)\n",
    "    # Returns:\n",
    "    #   loss: Loss for training the model\n",
    "    noise = torch.randn_like(x_start, device=device)\n",
    "\n",
    "    x_noisy = q_sample(x_start, t, noise)  # WRITE CODE HERE: Obtain the noisy image from the original images x_start, at times t, using the noise.\n",
    "    predicted_noise = denoise_model(x_noisy, t)  # WRITE CODE HERE: Obtain the prediction of the noise using the model.\n",
    "\n",
    "    loss = nn.HuberLoss()(predicted_noise, noise)  # WRITE CODE HERE: Compute the huber loss between true noise generated above, and the noise estimate obtained through the model.\n",
    "\n",
    "    return loss"
   ]
  },
  {
   "cell_type": "markdown",
   "id": "76FreGeEyDG5",
   "metadata": {
    "id": "76FreGeEyDG5"
   },
   "source": [
    "### Random sampling of time-step\n",
    "\n",
    "Finally, randomly sample time-steps from a uniform distribution over timesteps, and return a tensor of size (batch\\_size,)"
   ]
  },
  {
   "cell_type": "code",
   "execution_count": 16,
   "id": "Ezi8ZB4Dxx_b",
   "metadata": {
    "id": "Ezi8ZB4Dxx_b",
    "ExecuteTime": {
     "end_time": "2023-05-04T11:22:48.016738267Z",
     "start_time": "2023-05-04T11:22:48.015762679Z"
    }
   },
   "outputs": [],
   "source": [
    "def t_sample(timesteps, batch_size):\n",
    "    # Returns randomly sampled timesteps\n",
    "    # Inputs:\n",
    "    #   timesteps: The max number of timesteps; T\n",
    "    #   batch_size: batch_size used in training\n",
    "    # Returns:\n",
    "    #   ts: Tensor of size (batch_size,) containing timesteps randomly sampled from 0 to timesteps-1\n",
    "\n",
    "    # WRITE CODE HERE: Randommly sample a tensor of size (batch_size,) where entries are independently sampled from [0, ..., timesteps-1]\n",
    "    ts = torch.randint(0, timesteps, size=(batch_size,), device=device)\n",
    "    return ts"
   ]
  },
  {
   "cell_type": "markdown",
   "id": "22e4c0fd",
   "metadata": {
    "id": "22e4c0fd"
   },
   "source": [
    "Having defined all the ingredients for **training** and **sampling** from this model, we now define the model itself and the optimizer used for training."
   ]
  },
  {
   "cell_type": "code",
   "execution_count": 17,
   "id": "a5126e21",
   "metadata": {
    "id": "a5126e21",
    "ExecuteTime": {
     "end_time": "2023-05-04T11:22:49.237356476Z",
     "start_time": "2023-05-04T11:22:48.016351793Z"
    }
   },
   "outputs": [],
   "source": [
    "if __name__ == '__main__':\n",
    "    model = Unet(\n",
    "        dim=image_size,\n",
    "        channels=input_channels,\n",
    "        dim_mults=(1, 2, 4, 8)\n",
    "        )\n",
    "\n",
    "    model.to(device)\n",
    "\n",
    "    optimizer = Adam(model.parameters(), lr=lr)"
   ]
  },
  {
   "cell_type": "code",
   "execution_count": 18,
   "id": "70ebb296",
   "metadata": {
    "ExecuteTime": {
     "end_time": "2023-05-04T11:22:51.271495641Z",
     "start_time": "2023-05-04T11:22:49.238413463Z"
    }
   },
   "outputs": [
    {
     "name": "stdout",
     "output_type": "stream",
     "text": [
      "Using downloaded and verified file: ./data/train_32x32.mat\n",
      "Using downloaded and verified file: ./data/test_32x32.mat\n"
     ]
    }
   ],
   "source": [
    "train_dataloader, test_dataloader = get_dataloaders(data_root, batch_size=train_batch_size)"
   ]
  },
  {
   "cell_type": "markdown",
   "id": "f7444b0b",
   "metadata": {
    "id": "f7444b0b"
   },
   "source": [
    "Finally, let's start training!\n",
    "Visualization of the samples generated, the original dataset and the reconstructions are saved locally in the notebook! Your task is to just provide sampling of time-steps t, which should be a tensor of size (batch\\_size,) sampled uniformly from $[0, T-1]$."
   ]
  },
  {
   "cell_type": "code",
   "execution_count": 19,
   "id": "92b12ed1",
   "metadata": {
    "id": "92b12ed1",
    "pycharm": {
     "is_executing": true
    },
    "ExecuteTime": {
     "end_time": "2023-05-04T11:46:38.965148846Z",
     "start_time": "2023-05-04T11:24:00.438475089Z"
    }
   },
   "outputs": [
    {
     "name": "stdout",
     "output_type": "stream",
     "text": [
      "Using downloaded and verified file: ./data/train_32x32.mat\n",
      "Using downloaded and verified file: ./data/test_32x32.mat\n"
     ]
    },
    {
     "data": {
      "text/plain": "  0%|          | 0/1144 [00:00<?, ?batch/s]",
      "application/vnd.jupyter.widget-view+json": {
       "version_major": 2,
       "version_minor": 0,
       "model_id": "33cdd8efef744256ad7c3787f7884abc"
      }
     },
     "metadata": {},
     "output_type": "display_data"
    },
    {
     "data": {
      "text/plain": "Sampling:   0%|          | 0/1000 [00:00<?, ?it/s]",
      "application/vnd.jupyter.widget-view+json": {
       "version_major": 2,
       "version_minor": 0,
       "model_id": "ac0aec4bf36d454fadc80e71298ce237"
      }
     },
     "metadata": {},
     "output_type": "display_data"
    },
    {
     "data": {
      "text/plain": "  0%|          | 0/1144 [00:00<?, ?batch/s]",
      "application/vnd.jupyter.widget-view+json": {
       "version_major": 2,
       "version_minor": 0,
       "model_id": "a01fab3cc70244dfb414e5dc7071fadf"
      }
     },
     "metadata": {},
     "output_type": "display_data"
    }
   ],
   "source": [
    "epochs = 200\n",
    "start_epoch = 0\n",
    "\n",
    "# with open(f\"models/model_{start_epoch}\" + \".pickle\", 'rb') as f:\n",
    "#     model = pickle.load(f)\n",
    "\n",
    "if __name__ == '__main__':\n",
    "    logger = dict()\n",
    "    logger['train_time'] = [0]\n",
    "    logger['train_losses'] = []\n",
    "    start_time = time.time()\n",
    "\n",
    "    data_dict = dict()\n",
    "    data_dict[\"samples\"] = []\n",
    "\n",
    "    train_dataloader, test_dataloader = get_dataloaders(data_root, batch_size=train_batch_size)\n",
    "    for epoch in range(start_epoch, epochs):\n",
    "        with tqdm(train_dataloader, unit=\"batch\", leave=False) as tepoch:\n",
    "            for batch in tepoch:\n",
    "                tepoch.set_description(f\"Epoch: {epoch}\")\n",
    "\n",
    "                optimizer.zero_grad()\n",
    "                imgs, _ = batch\n",
    "                batch_size = imgs.shape[0]\n",
    "                x = imgs.to(device)\n",
    "\n",
    "                t = t_sample(T, batch_size)  # Randomly sample timesteps uniformly from [0, T-1]\n",
    "\n",
    "                loss = p_losses(model, x, t)\n",
    "\n",
    "                loss.backward()\n",
    "                optimizer.step()\n",
    "\n",
    "                tepoch.set_postfix(loss=loss.item())\n",
    "\n",
    "        new_time = time.time() - start_time\n",
    "        logger['train_time'].append(new_time)\n",
    "\n",
    "        # Sample and Save Generated Images\n",
    "        samples = sample(model, image_size=image_size, batch_size=64, channels=input_channels)\n",
    "        data_dict[\"samples\"].append(samples[-1].numpy(force=True))\n",
    "        samples = (torch.Tensor(samples[-1]) + 1) * 0.5\n",
    "        save_image(samples, f'results/samples/samples_{epoch}.png')\n",
    "\n",
    "        if epoch % 10 == 0:\n",
    "            with open(f\"models/model_{epoch}\" + \".pickle\", 'wb') as f:\n",
    "                pickle.dump(model, f)\n",
    "\n",
    "        with open(f\"results/data_dict\" + \".pickle\", 'wb') as f:\n",
    "            pickle.dump(data_dict, f)\n",
    "        # with open(f\"models/model_{epoch}\" + \".pickle\", 'wb') as f:\n",
    "        #     pickle.dump(model, f)\n",
    "        save_logs(logger, \"logs\")\n",
    "\n",
    "    with open(f\"results/data_dict\" + \".pickle\", 'wb') as f:\n",
    "        pickle.dump(data_dict, f)\n",
    "    with open(f\"models/model_{epoch}\" + \".pickle\", 'wb') as f:\n",
    "        pickle.dump(model, f)\n",
    "    save_logs(logger, \"logs\")\n",
    "\n",
    "    show_image(samples)"
   ]
  },
  {
   "cell_type": "code",
   "execution_count": null,
   "outputs": [],
   "source": [],
   "metadata": {
    "collapsed": false
   }
  },
  {
   "cell_type": "code",
   "execution_count": 20,
   "id": "5b697c06",
   "metadata": {},
   "outputs": [
    {
     "ename": "FileNotFoundError",
     "evalue": "[Errno 2] No such file or directory: 'models/model_330.pickle'",
     "output_type": "error",
     "traceback": [
      "\u001B[0;31m---------------------------------------------------------------------------\u001B[0m",
      "\u001B[0;31mFileNotFoundError\u001B[0m                         Traceback (most recent call last)",
      "Cell \u001B[0;32mIn[20], line 1\u001B[0m\n\u001B[0;32m----> 1\u001B[0m \u001B[38;5;28;01mwith\u001B[39;00m \u001B[38;5;28;43mopen\u001B[39;49m\u001B[43m(\u001B[49m\u001B[38;5;124;43mf\u001B[39;49m\u001B[38;5;124;43m\"\u001B[39;49m\u001B[38;5;124;43mmodels/model_\u001B[39;49m\u001B[38;5;132;43;01m{\u001B[39;49;00m\u001B[38;5;241;43m330\u001B[39;49m\u001B[38;5;132;43;01m}\u001B[39;49;00m\u001B[38;5;124;43m\"\u001B[39;49m\u001B[43m \u001B[49m\u001B[38;5;241;43m+\u001B[39;49m\u001B[43m \u001B[49m\u001B[38;5;124;43m\"\u001B[39;49m\u001B[38;5;124;43m.pickle\u001B[39;49m\u001B[38;5;124;43m\"\u001B[39;49m\u001B[43m,\u001B[49m\u001B[43m \u001B[49m\u001B[38;5;124;43m'\u001B[39;49m\u001B[38;5;124;43mrb\u001B[39;49m\u001B[38;5;124;43m'\u001B[39;49m\u001B[43m)\u001B[49m \u001B[38;5;28;01mas\u001B[39;00m f:\n\u001B[1;32m      2\u001B[0m     model \u001B[38;5;241m=\u001B[39m pickle\u001B[38;5;241m.\u001B[39mload(f)\n",
      "File \u001B[0;32m/usr/lib/python3.10/site-packages/IPython/core/interactiveshell.py:284\u001B[0m, in \u001B[0;36m_modified_open\u001B[0;34m(file, *args, **kwargs)\u001B[0m\n\u001B[1;32m    277\u001B[0m \u001B[38;5;28;01mif\u001B[39;00m file \u001B[38;5;129;01min\u001B[39;00m {\u001B[38;5;241m0\u001B[39m, \u001B[38;5;241m1\u001B[39m, \u001B[38;5;241m2\u001B[39m}:\n\u001B[1;32m    278\u001B[0m     \u001B[38;5;28;01mraise\u001B[39;00m \u001B[38;5;167;01mValueError\u001B[39;00m(\n\u001B[1;32m    279\u001B[0m         \u001B[38;5;124mf\u001B[39m\u001B[38;5;124m\"\u001B[39m\u001B[38;5;124mIPython won\u001B[39m\u001B[38;5;124m'\u001B[39m\u001B[38;5;124mt let you open fd=\u001B[39m\u001B[38;5;132;01m{\u001B[39;00mfile\u001B[38;5;132;01m}\u001B[39;00m\u001B[38;5;124m by default \u001B[39m\u001B[38;5;124m\"\u001B[39m\n\u001B[1;32m    280\u001B[0m         \u001B[38;5;124m\"\u001B[39m\u001B[38;5;124mas it is likely to crash IPython. If you know what you are doing, \u001B[39m\u001B[38;5;124m\"\u001B[39m\n\u001B[1;32m    281\u001B[0m         \u001B[38;5;124m\"\u001B[39m\u001B[38;5;124myou can use builtins\u001B[39m\u001B[38;5;124m'\u001B[39m\u001B[38;5;124m open.\u001B[39m\u001B[38;5;124m\"\u001B[39m\n\u001B[1;32m    282\u001B[0m     )\n\u001B[0;32m--> 284\u001B[0m \u001B[38;5;28;01mreturn\u001B[39;00m \u001B[43mio_open\u001B[49m\u001B[43m(\u001B[49m\u001B[43mfile\u001B[49m\u001B[43m,\u001B[49m\u001B[43m \u001B[49m\u001B[38;5;241;43m*\u001B[39;49m\u001B[43margs\u001B[49m\u001B[43m,\u001B[49m\u001B[43m \u001B[49m\u001B[38;5;241;43m*\u001B[39;49m\u001B[38;5;241;43m*\u001B[39;49m\u001B[43mkwargs\u001B[49m\u001B[43m)\u001B[49m\n",
      "\u001B[0;31mFileNotFoundError\u001B[0m: [Errno 2] No such file or directory: 'models/model_330.pickle'"
     ]
    }
   ],
   "source": [
    "with open(f\"models/model_{330}\" + \".pickle\", 'rb') as f:\n",
    "    model = pickle.load(f)"
   ]
  },
  {
   "cell_type": "code",
   "execution_count": null,
   "id": "69e1a3f4",
   "metadata": {},
   "outputs": [],
   "source": [
    "samples = sample(model, image_size=image_size, batch_size=64, channels=input_channels)\n",
    "samples = (torch.Tensor(samples[-1]) + 1) * 0.5\n",
    "show_image(samples)"
   ]
  },
  {
   "cell_type": "code",
   "execution_count": null,
   "id": "e1292870",
   "metadata": {},
   "outputs": [],
   "source": [
    "samples"
   ]
  },
  {
   "cell_type": "code",
   "execution_count": null,
   "id": "8e073a53",
   "metadata": {},
   "outputs": [],
   "source": []
  },
  {
   "cell_type": "code",
   "execution_count": null,
   "id": "4e1cd2c5",
   "metadata": {},
   "outputs": [],
   "source": []
  },
  {
   "cell_type": "code",
   "execution_count": null,
   "id": "80b9a62d",
   "metadata": {},
   "outputs": [],
   "source": []
  },
  {
   "cell_type": "code",
   "execution_count": null,
   "id": "925c2328",
   "metadata": {},
   "outputs": [],
   "source": []
  },
  {
   "cell_type": "code",
   "execution_count": null,
   "id": "667bc7e1",
   "metadata": {},
   "outputs": [],
   "source": [
    "imgs_batch = list(test_dataloader)[0][0]"
   ]
  },
  {
   "cell_type": "code",
   "execution_count": null,
   "id": "7250869c",
   "metadata": {},
   "outputs": [],
   "source": [
    "def p_sample_loop_img(model, img, shape, timesteps):\n",
    "    with torch.no_grad():\n",
    "        b = shape[0]\n",
    "        img = img.to(device)\n",
    "        imgs = []\n",
    "\n",
    "        for i in tqdm(reversed(range(0, timesteps)), desc='Sampling', total=T, leave=False):\n",
    "            img = p_sample(model, img, torch.full(size=(b,), fill_value=i, device=device), i)\n",
    "            imgs.append(img.cpu())\n",
    "\n",
    "        return torch.stack(imgs)\n",
    "\n",
    "img_start = (imgs_batch[26][None]).to(device)\n",
    "# show_image((img_start + 1) * 0.5 )\n",
    "\n",
    "t = torch.arange(0, 500, 8, device=device)\n",
    "imgs_noised = q_sample(img_start, t, noise=None)\n",
    "b = imgs_noised.shape[0]\n",
    "show_image((imgs_noised + 1) * 0.5)\n",
    "\n",
    "samples = p_sample_loop_img(model, imgs_noised, shape=(b, 3, 32, 32), timesteps=500)\n",
    "t = t.cpu()\n",
    "samples = ((samples[t, range(len(t))] + 1) * 0.5)\n",
    "# samples = ((samples[-1, range(len(t))] + 1) * 0.5)\n",
    "show_image(samples)"
   ]
  },
  {
   "cell_type": "code",
   "execution_count": null,
   "id": "b0b6646d",
   "metadata": {},
   "outputs": [],
   "source": [
    "(samples[-1] + 1) * 0.5 / torch.max(torch.abs(samples[-1]), dim=0, keepdim=True).values"
   ]
  },
  {
   "cell_type": "code",
   "execution_count": null,
   "id": "efdb0bf1",
   "metadata": {},
   "outputs": [],
   "source": [
    "torch.max(samples[-1], dim=0, keepdim=True)"
   ]
  },
  {
   "cell_type": "code",
   "execution_count": null,
   "id": "a45c2463",
   "metadata": {},
   "outputs": [],
   "source": []
  },
  {
   "cell_type": "code",
   "execution_count": null,
   "id": "b37fc4e8",
   "metadata": {},
   "outputs": [],
   "source": []
  },
  {
   "cell_type": "code",
   "execution_count": null,
   "id": "30d0bb6d",
   "metadata": {},
   "outputs": [],
   "source": []
  },
  {
   "cell_type": "code",
   "execution_count": null,
   "id": "eddd59e2",
   "metadata": {},
   "outputs": [],
   "source": []
  },
  {
   "cell_type": "code",
   "execution_count": null,
   "id": "5df1b508",
   "metadata": {},
   "outputs": [],
   "source": []
  },
  {
   "cell_type": "code",
   "execution_count": null,
   "id": "1fe722bb",
   "metadata": {},
   "outputs": [],
   "source": []
  },
  {
   "cell_type": "code",
   "execution_count": null,
   "id": "7b6501e8",
   "metadata": {},
   "outputs": [],
   "source": []
  },
  {
   "cell_type": "code",
   "execution_count": null,
   "id": "513e7c0d",
   "metadata": {},
   "outputs": [],
   "source": []
  },
  {
   "cell_type": "code",
   "execution_count": null,
   "id": "43b69d03",
   "metadata": {},
   "outputs": [],
   "source": []
  },
  {
   "cell_type": "code",
   "execution_count": null,
   "id": "126bc167",
   "metadata": {},
   "outputs": [],
   "source": []
  },
  {
   "cell_type": "code",
   "execution_count": null,
   "id": "a1a4049b",
   "metadata": {},
   "outputs": [],
   "source": []
  },
  {
   "cell_type": "code",
   "execution_count": null,
   "id": "68ab9153",
   "metadata": {},
   "outputs": [],
   "source": []
  },
  {
   "cell_type": "code",
   "execution_count": null,
   "id": "17c65795",
   "metadata": {},
   "outputs": [],
   "source": [
    "def visualize_diffusion_denoise(denoise_model):\n",
    "    _, valid_dataloader = get_dataloaders(data_root=data_root, batch_size=train_batch_size)\n",
    "    imgs, _ = next(iter(valid_dataloader))\n",
    "    sample = imgs[3].unsqueeze(0)\n",
    "    noisy_images = [sample] + [q_sample(sample, torch.tensor([100 * t + 99])) for t in range(10)]\n",
    "    noisy_images = (torch.cat(noisy_images, dim=0) + 1) * 0.5\n",
    "    # show_image(noisy_images.clamp(0, 1), nrow=11)\n",
    "\n",
    "    # x_start = sample.to(device)\n",
    "    # t = torch.arange(0, 10) *100+99\n",
    "    # print(t)\n",
    "    # noise = torch.randn_like(x_start, device=device)\n",
    "    # x_noisy = q_sample(x_start, t, noise)  # WRITE CODE HERE: Obtain the noisy image from the original images x_start, at times t, using the noise noise.\n",
    "    # WRITE CODE HERE: Obtain the prediction of the noise using the model.\n",
    "    predicted_noise = [denoise_model(noisy_images, torch.tensor([100 * t + 99])) for t in range(10)]\n",
    "\n",
    "    show_image(sample.clamp(0, 1), nrow=11)\n",
    "    show_image(noisy_images.clamp(0, 1), nrow=11)\n",
    "    # show_image(predicted_noise.clamp(0, 1), nrow=11)\n",
    "\n",
    "    # Sample and Save Generated Images\n",
    "    # save_image((x + 1) * 0.5, './results/orig.png')\n",
    "    # samples = sample(model, image_size=image_size, batch_size=64, channels=input_channels)\n",
    "    # samples = (torch.Tensor(samples[-1]) + 1) * 0.5\n",
    "    # save_image(samples, f'./results/samples_{epoch}.png')\n",
    "\n",
    "\n",
    "if __name__ == '__main__':\n",
    "    # with open(f\"models/model_{60}\" + \".pickle\", 'rb') as f:\n",
    "    #     model = pickle.load(f)\n",
    "    # print(model)\n",
    "\n",
    "    visualize_diffusion_denoise(model)"
   ]
  },
  {
   "cell_type": "code",
   "execution_count": null,
   "id": "c764a92a",
   "metadata": {},
   "outputs": [],
   "source": []
  }
 ],
 "metadata": {
  "accelerator": "GPU",
  "colab": {
   "provenance": []
  },
  "gpuClass": "standard",
  "jupytext": {
   "cell_metadata_filter": "-all",
   "main_language": "python",
   "notebook_metadata_filter": "-all"
  },
  "kernelspec": {
   "display_name": "Python 3 (ipykernel)",
   "language": "python",
   "name": "python3"
  },
  "language_info": {
   "codemirror_mode": {
    "name": "ipython",
    "version": 3
   },
   "file_extension": ".py",
   "mimetype": "text/x-python",
   "name": "python",
   "nbconvert_exporter": "python",
   "pygments_lexer": "ipython3",
   "version": "3.10.10"
  },
  "widgets": {
   "application/vnd.jupyter.widget-state+json": {
    "143e663d75b848fd99cd7322647a52bf": {
     "model_module": "@jupyter-widgets/controls",
     "model_module_version": "1.5.0",
     "model_name": "DescriptionStyleModel",
     "state": {
      "_model_module": "@jupyter-widgets/controls",
      "_model_module_version": "1.5.0",
      "_model_name": "DescriptionStyleModel",
      "_view_count": null,
      "_view_module": "@jupyter-widgets/base",
      "_view_module_version": "1.2.0",
      "_view_name": "StyleView",
      "description_width": ""
     }
    },
    "1645db49a72f42b0ad826e5bce4ac1c3": {
     "model_module": "@jupyter-widgets/base",
     "model_module_version": "1.2.0",
     "model_name": "LayoutModel",
     "state": {
      "_model_module": "@jupyter-widgets/base",
      "_model_module_version": "1.2.0",
      "_model_name": "LayoutModel",
      "_view_count": null,
      "_view_module": "@jupyter-widgets/base",
      "_view_module_version": "1.2.0",
      "_view_name": "LayoutView",
      "align_content": null,
      "align_items": null,
      "align_self": null,
      "border": null,
      "bottom": null,
      "display": null,
      "flex": null,
      "flex_flow": null,
      "grid_area": null,
      "grid_auto_columns": null,
      "grid_auto_flow": null,
      "grid_auto_rows": null,
      "grid_column": null,
      "grid_gap": null,
      "grid_row": null,
      "grid_template_areas": null,
      "grid_template_columns": null,
      "grid_template_rows": null,
      "height": null,
      "justify_content": null,
      "justify_items": null,
      "left": null,
      "margin": null,
      "max_height": null,
      "max_width": null,
      "min_height": null,
      "min_width": null,
      "object_fit": null,
      "object_position": null,
      "order": null,
      "overflow": null,
      "overflow_x": null,
      "overflow_y": null,
      "padding": null,
      "right": null,
      "top": null,
      "visibility": null,
      "width": null
     }
    },
    "26d5769ffffc4e969fc647e2b546670a": {
     "model_module": "@jupyter-widgets/controls",
     "model_module_version": "1.5.0",
     "model_name": "DescriptionStyleModel",
     "state": {
      "_model_module": "@jupyter-widgets/controls",
      "_model_module_version": "1.5.0",
      "_model_name": "DescriptionStyleModel",
      "_view_count": null,
      "_view_module": "@jupyter-widgets/base",
      "_view_module_version": "1.2.0",
      "_view_name": "StyleView",
      "description_width": ""
     }
    },
    "2f0e4fe1f4f2496b9ffd804c811c451e": {
     "model_module": "@jupyter-widgets/controls",
     "model_module_version": "1.5.0",
     "model_name": "HTMLModel",
     "state": {
      "_dom_classes": [],
      "_model_module": "@jupyter-widgets/controls",
      "_model_module_version": "1.5.0",
      "_model_name": "HTMLModel",
      "_view_count": null,
      "_view_module": "@jupyter-widgets/controls",
      "_view_module_version": "1.5.0",
      "_view_name": "HTMLView",
      "description": "",
      "description_tooltip": null,
      "layout": "IPY_MODEL_4172a6d41d514733bc20e4caec4cf751",
      "placeholder": "​",
      "style": "IPY_MODEL_eab0718b0f224b7aa65f9d551ac009df",
      "value": "100%"
     }
    },
    "400b2d2791ba43ebbaaa6ea00accfe85": {
     "model_module": "@jupyter-widgets/base",
     "model_module_version": "1.2.0",
     "model_name": "LayoutModel",
     "state": {
      "_model_module": "@jupyter-widgets/base",
      "_model_module_version": "1.2.0",
      "_model_name": "LayoutModel",
      "_view_count": null,
      "_view_module": "@jupyter-widgets/base",
      "_view_module_version": "1.2.0",
      "_view_name": "LayoutView",
      "align_content": null,
      "align_items": null,
      "align_self": null,
      "border": null,
      "bottom": null,
      "display": null,
      "flex": null,
      "flex_flow": null,
      "grid_area": null,
      "grid_auto_columns": null,
      "grid_auto_flow": null,
      "grid_auto_rows": null,
      "grid_column": null,
      "grid_gap": null,
      "grid_row": null,
      "grid_template_areas": null,
      "grid_template_columns": null,
      "grid_template_rows": null,
      "height": null,
      "justify_content": null,
      "justify_items": null,
      "left": null,
      "margin": null,
      "max_height": null,
      "max_width": null,
      "min_height": null,
      "min_width": null,
      "object_fit": null,
      "object_position": null,
      "order": null,
      "overflow": null,
      "overflow_x": null,
      "overflow_y": null,
      "padding": null,
      "right": null,
      "top": null,
      "visibility": null,
      "width": null
     }
    },
    "4172a6d41d514733bc20e4caec4cf751": {
     "model_module": "@jupyter-widgets/base",
     "model_module_version": "1.2.0",
     "model_name": "LayoutModel",
     "state": {
      "_model_module": "@jupyter-widgets/base",
      "_model_module_version": "1.2.0",
      "_model_name": "LayoutModel",
      "_view_count": null,
      "_view_module": "@jupyter-widgets/base",
      "_view_module_version": "1.2.0",
      "_view_name": "LayoutView",
      "align_content": null,
      "align_items": null,
      "align_self": null,
      "border": null,
      "bottom": null,
      "display": null,
      "flex": null,
      "flex_flow": null,
      "grid_area": null,
      "grid_auto_columns": null,
      "grid_auto_flow": null,
      "grid_auto_rows": null,
      "grid_column": null,
      "grid_gap": null,
      "grid_row": null,
      "grid_template_areas": null,
      "grid_template_columns": null,
      "grid_template_rows": null,
      "height": null,
      "justify_content": null,
      "justify_items": null,
      "left": null,
      "margin": null,
      "max_height": null,
      "max_width": null,
      "min_height": null,
      "min_width": null,
      "object_fit": null,
      "object_position": null,
      "order": null,
      "overflow": null,
      "overflow_x": null,
      "overflow_y": null,
      "padding": null,
      "right": null,
      "top": null,
      "visibility": null,
      "width": null
     }
    },
    "4938609cadef48cb839534dafefd7453": {
     "model_module": "@jupyter-widgets/controls",
     "model_module_version": "1.5.0",
     "model_name": "HTMLModel",
     "state": {
      "_dom_classes": [],
      "_model_module": "@jupyter-widgets/controls",
      "_model_module_version": "1.5.0",
      "_model_name": "HTMLModel",
      "_view_count": null,
      "_view_module": "@jupyter-widgets/controls",
      "_view_module_version": "1.5.0",
      "_view_name": "HTMLView",
      "description": "",
      "description_tooltip": null,
      "layout": "IPY_MODEL_e8629527c9654a58a35229bf59f5bb4e",
      "placeholder": "​",
      "style": "IPY_MODEL_26d5769ffffc4e969fc647e2b546670a",
      "value": " 182040794/182040794 [00:15&lt;00:00, 16701189.18it/s]"
     }
    },
    "5766d8f05f534fe3960944265d440832": {
     "model_module": "@jupyter-widgets/controls",
     "model_module_version": "1.5.0",
     "model_name": "HBoxModel",
     "state": {
      "_dom_classes": [],
      "_model_module": "@jupyter-widgets/controls",
      "_model_module_version": "1.5.0",
      "_model_name": "HBoxModel",
      "_view_count": null,
      "_view_module": "@jupyter-widgets/controls",
      "_view_module_version": "1.5.0",
      "_view_name": "HBoxView",
      "box_style": "",
      "children": [
       "IPY_MODEL_2f0e4fe1f4f2496b9ffd804c811c451e",
       "IPY_MODEL_9e0833188c0c4553b33511e981c1c8be",
       "IPY_MODEL_81f8fcbf02d04984bcd7767c86417146"
      ],
      "layout": "IPY_MODEL_726cb0b510834f2da557ba864bfb7b46"
     }
    },
    "669f7c671b9f4f49ab626a5a4831be3b": {
     "model_module": "@jupyter-widgets/controls",
     "model_module_version": "1.5.0",
     "model_name": "HBoxModel",
     "state": {
      "_dom_classes": [],
      "_model_module": "@jupyter-widgets/controls",
      "_model_module_version": "1.5.0",
      "_model_name": "HBoxModel",
      "_view_count": null,
      "_view_module": "@jupyter-widgets/controls",
      "_view_module_version": "1.5.0",
      "_view_name": "HBoxView",
      "box_style": "",
      "children": [
       "IPY_MODEL_e7444f48465546bb95e13e1c506f2116",
       "IPY_MODEL_6cbde5f4313446768542bd4827352c19",
       "IPY_MODEL_4938609cadef48cb839534dafefd7453"
      ],
      "layout": "IPY_MODEL_400b2d2791ba43ebbaaa6ea00accfe85"
     }
    },
    "6cbde5f4313446768542bd4827352c19": {
     "model_module": "@jupyter-widgets/controls",
     "model_module_version": "1.5.0",
     "model_name": "FloatProgressModel",
     "state": {
      "_dom_classes": [],
      "_model_module": "@jupyter-widgets/controls",
      "_model_module_version": "1.5.0",
      "_model_name": "FloatProgressModel",
      "_view_count": null,
      "_view_module": "@jupyter-widgets/controls",
      "_view_module_version": "1.5.0",
      "_view_name": "ProgressView",
      "bar_style": "success",
      "description": "",
      "description_tooltip": null,
      "layout": "IPY_MODEL_f672d040f1d240d1954f001f52297faf",
      "max": 182040794,
      "min": 0,
      "orientation": "horizontal",
      "style": "IPY_MODEL_bccf9808bacd4d01b7387dacfdfc47c6",
      "value": 182040794
     }
    },
    "726cb0b510834f2da557ba864bfb7b46": {
     "model_module": "@jupyter-widgets/base",
     "model_module_version": "1.2.0",
     "model_name": "LayoutModel",
     "state": {
      "_model_module": "@jupyter-widgets/base",
      "_model_module_version": "1.2.0",
      "_model_name": "LayoutModel",
      "_view_count": null,
      "_view_module": "@jupyter-widgets/base",
      "_view_module_version": "1.2.0",
      "_view_name": "LayoutView",
      "align_content": null,
      "align_items": null,
      "align_self": null,
      "border": null,
      "bottom": null,
      "display": null,
      "flex": null,
      "flex_flow": null,
      "grid_area": null,
      "grid_auto_columns": null,
      "grid_auto_flow": null,
      "grid_auto_rows": null,
      "grid_column": null,
      "grid_gap": null,
      "grid_row": null,
      "grid_template_areas": null,
      "grid_template_columns": null,
      "grid_template_rows": null,
      "height": null,
      "justify_content": null,
      "justify_items": null,
      "left": null,
      "margin": null,
      "max_height": null,
      "max_width": null,
      "min_height": null,
      "min_width": null,
      "object_fit": null,
      "object_position": null,
      "order": null,
      "overflow": null,
      "overflow_x": null,
      "overflow_y": null,
      "padding": null,
      "right": null,
      "top": null,
      "visibility": null,
      "width": null
     }
    },
    "81f8fcbf02d04984bcd7767c86417146": {
     "model_module": "@jupyter-widgets/controls",
     "model_module_version": "1.5.0",
     "model_name": "HTMLModel",
     "state": {
      "_dom_classes": [],
      "_model_module": "@jupyter-widgets/controls",
      "_model_module_version": "1.5.0",
      "_model_name": "HTMLModel",
      "_view_count": null,
      "_view_module": "@jupyter-widgets/controls",
      "_view_module_version": "1.5.0",
      "_view_name": "HTMLView",
      "description": "",
      "description_tooltip": null,
      "layout": "IPY_MODEL_fa0b225ca40d46b0834cc814c36411f9",
      "placeholder": "​",
      "style": "IPY_MODEL_c63b76b634414f089532349b534e3b4b",
      "value": " 64275384/64275384 [00:08&lt;00:00, 16347405.95it/s]"
     }
    },
    "9e0833188c0c4553b33511e981c1c8be": {
     "model_module": "@jupyter-widgets/controls",
     "model_module_version": "1.5.0",
     "model_name": "FloatProgressModel",
     "state": {
      "_dom_classes": [],
      "_model_module": "@jupyter-widgets/controls",
      "_model_module_version": "1.5.0",
      "_model_name": "FloatProgressModel",
      "_view_count": null,
      "_view_module": "@jupyter-widgets/controls",
      "_view_module_version": "1.5.0",
      "_view_name": "ProgressView",
      "bar_style": "success",
      "description": "",
      "description_tooltip": null,
      "layout": "IPY_MODEL_1645db49a72f42b0ad826e5bce4ac1c3",
      "max": 64275384,
      "min": 0,
      "orientation": "horizontal",
      "style": "IPY_MODEL_d188fb5019c241e78e7a280b2ee5062d",
      "value": 64275384
     }
    },
    "b7add0b764e145e7a43530d5da9d9e2a": {
     "model_module": "@jupyter-widgets/base",
     "model_module_version": "1.2.0",
     "model_name": "LayoutModel",
     "state": {
      "_model_module": "@jupyter-widgets/base",
      "_model_module_version": "1.2.0",
      "_model_name": "LayoutModel",
      "_view_count": null,
      "_view_module": "@jupyter-widgets/base",
      "_view_module_version": "1.2.0",
      "_view_name": "LayoutView",
      "align_content": null,
      "align_items": null,
      "align_self": null,
      "border": null,
      "bottom": null,
      "display": null,
      "flex": null,
      "flex_flow": null,
      "grid_area": null,
      "grid_auto_columns": null,
      "grid_auto_flow": null,
      "grid_auto_rows": null,
      "grid_column": null,
      "grid_gap": null,
      "grid_row": null,
      "grid_template_areas": null,
      "grid_template_columns": null,
      "grid_template_rows": null,
      "height": null,
      "justify_content": null,
      "justify_items": null,
      "left": null,
      "margin": null,
      "max_height": null,
      "max_width": null,
      "min_height": null,
      "min_width": null,
      "object_fit": null,
      "object_position": null,
      "order": null,
      "overflow": null,
      "overflow_x": null,
      "overflow_y": null,
      "padding": null,
      "right": null,
      "top": null,
      "visibility": null,
      "width": null
     }
    },
    "bccf9808bacd4d01b7387dacfdfc47c6": {
     "model_module": "@jupyter-widgets/controls",
     "model_module_version": "1.5.0",
     "model_name": "ProgressStyleModel",
     "state": {
      "_model_module": "@jupyter-widgets/controls",
      "_model_module_version": "1.5.0",
      "_model_name": "ProgressStyleModel",
      "_view_count": null,
      "_view_module": "@jupyter-widgets/base",
      "_view_module_version": "1.2.0",
      "_view_name": "StyleView",
      "bar_color": null,
      "description_width": ""
     }
    },
    "c63b76b634414f089532349b534e3b4b": {
     "model_module": "@jupyter-widgets/controls",
     "model_module_version": "1.5.0",
     "model_name": "DescriptionStyleModel",
     "state": {
      "_model_module": "@jupyter-widgets/controls",
      "_model_module_version": "1.5.0",
      "_model_name": "DescriptionStyleModel",
      "_view_count": null,
      "_view_module": "@jupyter-widgets/base",
      "_view_module_version": "1.2.0",
      "_view_name": "StyleView",
      "description_width": ""
     }
    },
    "d188fb5019c241e78e7a280b2ee5062d": {
     "model_module": "@jupyter-widgets/controls",
     "model_module_version": "1.5.0",
     "model_name": "ProgressStyleModel",
     "state": {
      "_model_module": "@jupyter-widgets/controls",
      "_model_module_version": "1.5.0",
      "_model_name": "ProgressStyleModel",
      "_view_count": null,
      "_view_module": "@jupyter-widgets/base",
      "_view_module_version": "1.2.0",
      "_view_name": "StyleView",
      "bar_color": null,
      "description_width": ""
     }
    },
    "e7444f48465546bb95e13e1c506f2116": {
     "model_module": "@jupyter-widgets/controls",
     "model_module_version": "1.5.0",
     "model_name": "HTMLModel",
     "state": {
      "_dom_classes": [],
      "_model_module": "@jupyter-widgets/controls",
      "_model_module_version": "1.5.0",
      "_model_name": "HTMLModel",
      "_view_count": null,
      "_view_module": "@jupyter-widgets/controls",
      "_view_module_version": "1.5.0",
      "_view_name": "HTMLView",
      "description": "",
      "description_tooltip": null,
      "layout": "IPY_MODEL_b7add0b764e145e7a43530d5da9d9e2a",
      "placeholder": "​",
      "style": "IPY_MODEL_143e663d75b848fd99cd7322647a52bf",
      "value": "100%"
     }
    },
    "e8629527c9654a58a35229bf59f5bb4e": {
     "model_module": "@jupyter-widgets/base",
     "model_module_version": "1.2.0",
     "model_name": "LayoutModel",
     "state": {
      "_model_module": "@jupyter-widgets/base",
      "_model_module_version": "1.2.0",
      "_model_name": "LayoutModel",
      "_view_count": null,
      "_view_module": "@jupyter-widgets/base",
      "_view_module_version": "1.2.0",
      "_view_name": "LayoutView",
      "align_content": null,
      "align_items": null,
      "align_self": null,
      "border": null,
      "bottom": null,
      "display": null,
      "flex": null,
      "flex_flow": null,
      "grid_area": null,
      "grid_auto_columns": null,
      "grid_auto_flow": null,
      "grid_auto_rows": null,
      "grid_column": null,
      "grid_gap": null,
      "grid_row": null,
      "grid_template_areas": null,
      "grid_template_columns": null,
      "grid_template_rows": null,
      "height": null,
      "justify_content": null,
      "justify_items": null,
      "left": null,
      "margin": null,
      "max_height": null,
      "max_width": null,
      "min_height": null,
      "min_width": null,
      "object_fit": null,
      "object_position": null,
      "order": null,
      "overflow": null,
      "overflow_x": null,
      "overflow_y": null,
      "padding": null,
      "right": null,
      "top": null,
      "visibility": null,
      "width": null
     }
    },
    "eab0718b0f224b7aa65f9d551ac009df": {
     "model_module": "@jupyter-widgets/controls",
     "model_module_version": "1.5.0",
     "model_name": "DescriptionStyleModel",
     "state": {
      "_model_module": "@jupyter-widgets/controls",
      "_model_module_version": "1.5.0",
      "_model_name": "DescriptionStyleModel",
      "_view_count": null,
      "_view_module": "@jupyter-widgets/base",
      "_view_module_version": "1.2.0",
      "_view_name": "StyleView",
      "description_width": ""
     }
    },
    "f672d040f1d240d1954f001f52297faf": {
     "model_module": "@jupyter-widgets/base",
     "model_module_version": "1.2.0",
     "model_name": "LayoutModel",
     "state": {
      "_model_module": "@jupyter-widgets/base",
      "_model_module_version": "1.2.0",
      "_model_name": "LayoutModel",
      "_view_count": null,
      "_view_module": "@jupyter-widgets/base",
      "_view_module_version": "1.2.0",
      "_view_name": "LayoutView",
      "align_content": null,
      "align_items": null,
      "align_self": null,
      "border": null,
      "bottom": null,
      "display": null,
      "flex": null,
      "flex_flow": null,
      "grid_area": null,
      "grid_auto_columns": null,
      "grid_auto_flow": null,
      "grid_auto_rows": null,
      "grid_column": null,
      "grid_gap": null,
      "grid_row": null,
      "grid_template_areas": null,
      "grid_template_columns": null,
      "grid_template_rows": null,
      "height": null,
      "justify_content": null,
      "justify_items": null,
      "left": null,
      "margin": null,
      "max_height": null,
      "max_width": null,
      "min_height": null,
      "min_width": null,
      "object_fit": null,
      "object_position": null,
      "order": null,
      "overflow": null,
      "overflow_x": null,
      "overflow_y": null,
      "padding": null,
      "right": null,
      "top": null,
      "visibility": null,
      "width": null
     }
    },
    "fa0b225ca40d46b0834cc814c36411f9": {
     "model_module": "@jupyter-widgets/base",
     "model_module_version": "1.2.0",
     "model_name": "LayoutModel",
     "state": {
      "_model_module": "@jupyter-widgets/base",
      "_model_module_version": "1.2.0",
      "_model_name": "LayoutModel",
      "_view_count": null,
      "_view_module": "@jupyter-widgets/base",
      "_view_module_version": "1.2.0",
      "_view_name": "LayoutView",
      "align_content": null,
      "align_items": null,
      "align_self": null,
      "border": null,
      "bottom": null,
      "display": null,
      "flex": null,
      "flex_flow": null,
      "grid_area": null,
      "grid_auto_columns": null,
      "grid_auto_flow": null,
      "grid_auto_rows": null,
      "grid_column": null,
      "grid_gap": null,
      "grid_row": null,
      "grid_template_areas": null,
      "grid_template_columns": null,
      "grid_template_rows": null,
      "height": null,
      "justify_content": null,
      "justify_items": null,
      "left": null,
      "margin": null,
      "max_height": null,
      "max_width": null,
      "min_height": null,
      "min_width": null,
      "object_fit": null,
      "object_position": null,
      "order": null,
      "overflow": null,
      "overflow_x": null,
      "overflow_y": null,
      "padding": null,
      "right": null,
      "top": null,
      "visibility": null,
      "width": null
     }
    }
   }
  }
 },
 "nbformat": 4,
 "nbformat_minor": 5
}
