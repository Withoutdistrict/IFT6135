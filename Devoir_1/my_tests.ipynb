{
 "cells": [
  {
   "cell_type": "code",
   "execution_count": 1,
   "metadata": {
    "collapsed": true
   },
   "outputs": [],
   "source": [
    "import matplotlib\n",
    "matplotlib.use(\"tkagg\")\n",
    "import matplotlib.pyplot\n",
    "import numpy\n",
    "\n",
    "import os\n",
    "import json\n"
   ]
  },
  {
   "cell_type": "code",
   "execution_count": 2,
   "outputs": [],
   "source": [
    "def f(x):\n",
    "    if x > 1: return 3/4*(1-x)**2-2*(1-x)\n",
    "    elif x < -1: return 3/4*(1+x)**2-2*(1+x)\n",
    "    else: return x**2-1"
   ],
   "metadata": {
    "collapsed": false
   }
  },
  {
   "cell_type": "code",
   "execution_count": 4,
   "outputs": [],
   "source": [
    "x = numpy.linspace(-100.5, 100.5, 1000)\n",
    "fv = numpy.vectorize(f)(x)\n",
    "matplotlib.pyplot.plot(x, fv)\n",
    "\n",
    "# F = numpy.zeros([1000])\n",
    "# for i, x_i in enumerate(x):\n",
    "#     F[i] = f(x_i)\n",
    "# # x = numpy.linspace(-1.5, 1.5, 1000)\n",
    "# matplotlib.pyplot.plot(x, F)\n",
    "#\n",
    "# x = numpy.linspace(-1.5, 1.5, 1000)\n",
    "# matplotlib.pyplot.plot(x, fv)\n",
    "matplotlib.pyplot.show()"
   ],
   "metadata": {
    "collapsed": false
   }
  },
  {
   "cell_type": "code",
   "execution_count": 14,
   "outputs": [],
   "source": [
    "import utils\n",
    "utils.generate_plots([\"logdir_mlp/logdir_relu\", \"logdir_mlp/logdir_sigmoid\", \"logdir_mlp/logdir_tanh\"], [\"relu\", \"sigmoid\", \"tanh\"], \"logdir_mlp\")"
   ],
   "metadata": {
    "collapsed": false
   }
  },
  {
   "cell_type": "code",
   "execution_count": 18,
   "outputs": [],
   "source": [
    "import utils\n",
    "# logdir_resnet18 lr\n",
    "utils.generate_plots([\"logdir_resnet18/logdir_\" + str(P) for P in [\"0.1\", \"0.01\", \"0.001\", \"0.0001\", \"0.00001\"]], [\"lr=\"+str(P) for P in [\"0.1\", \"0.01\", \"0.001\", \"0.0001\", \"0.00001\"]], \"logdir_resnet18\")\n"
   ],
   "metadata": {
    "collapsed": false
   }
  },
  {
   "cell_type": "code",
   "execution_count": null,
   "outputs": [],
   "source": [
    "import utils\n",
    "# logdir_mlpmixer patch size\n",
    "utils.generate_plots([\"logdir_mlpmixer/logdir_\" + str(P) for P in [2, 4, 8, 16, 32]], [str(P)+\"x\"+str(P) for P in [2, 4, 8, 16, 32]], \"logdir_mlpmixer\")\n"
   ],
   "metadata": {
    "collapsed": false
   }
  },
  {
   "cell_type": "code",
   "execution_count": 38,
   "outputs": [],
   "source": [
    "def loads_timesjson(list_of_dirs, legend_names, save_path):\n",
    "    \"\"\" Generate plots according to log\n",
    "    :param list_of_dirs: List of paths to log directories\n",
    "    :param legend_names: List of legend names\n",
    "    :param save_path: Path to save the figs\n",
    "    \"\"\"\n",
    "    assert len(list_of_dirs) == len(legend_names), \"Names and log directories must have same length\"\n",
    "    data = {}\n",
    "    for logdir, name in zip(list_of_dirs, legend_names):\n",
    "        json_path = os.path.join(logdir, 'results.json')\n",
    "        assert os.path.exists(os.path.join(logdir, 'results.json')), f\"No json file in {logdir}\"\n",
    "        with open(json_path, 'r') as f:\n",
    "            data[name] = json.load(f)\n",
    "\n",
    "    fig, ax = matplotlib.pyplot.subplots()\n",
    "    ax.set_xticks([0,1,2,3,4,5], labels=[\"1x1\", \"2x2\", \"4x4\", \"8x8\", \"16x16\", \"32x32\"])\n",
    "    D = []\n",
    "    for k, yaxis in enumerate([\"train_times\", \"valid_times\"]):\n",
    "        D.append([])\n",
    "        for i, name in enumerate(data):\n",
    "            D[k].append(numpy.mean(data[name][yaxis]))\n",
    "\n",
    "    ax.semilogy(D[0], marker=\".\", label=\"train_times\", color=\"C\"+str(0))\n",
    "    ax.semilogy(D[1], marker=\".\", label=\"valid_times\", color=\"C\"+str(1))\n",
    "    ax.legend()\n",
    "    ax.set_xlabel('patch size')\n",
    "    ax.set_ylabel(\"time (s)\")\n",
    "    fig.savefig(os.path.join(save_path, f'{yaxis}.png'))\n",
    "\n",
    "loads_timesjson([\"logdir_mlpmixer/logdir_\" + str(P) for P in [1, 2, 4, 8, 16, 32]], [str(P)+\"x\"+str(P) for P in [1, 2, 4, 8, 16, 32]], \"logdir_mlpmixer\")\n"
   ],
   "metadata": {
    "collapsed": false
   }
  },
  {
   "cell_type": "code",
   "execution_count": 4,
   "outputs": [
    {
     "name": "stdout",
     "output_type": "stream",
     "text": [
      "[0.856 0.854 0.811 0.764]\n",
      "[0.649 0.717 0.861 0.721 0.523]\n",
      "[0.857 0.856 0.856 0.856 0.856]\n",
      "[0.861 0.856 0.314 0.563]\n",
      "[0.695 0.754 0.824 0.861 0.872 0.83 ]\n"
     ]
    }
   ],
   "source": [
    "def load_jsons(list_of_dirs, legend_names, save_path):\n",
    "    \"\"\" Generate plots according to log\n",
    "    :param list_of_dirs: List of paths to log directories\n",
    "    :param legend_names: List of legend names\n",
    "    :param save_path: Path to save the figs\n",
    "    \"\"\"\n",
    "    assert len(list_of_dirs) == len(legend_names), \"Names and log directories must have same length\"\n",
    "    data = {}\n",
    "    for logdir, name in zip(list_of_dirs, legend_names):\n",
    "        json_path = os.path.join(logdir, 'results.json')\n",
    "        assert os.path.exists(os.path.join(logdir, 'results.json')), f\"No json file in {logdir}\"\n",
    "        with open(json_path, 'r') as f:\n",
    "            data[name] = json.load(f)\n",
    "    D = []\n",
    "    for k, yaxis in enumerate([\"valid_accs\"]):\n",
    "        for i, name in enumerate(data):\n",
    "            D.append(numpy.max(data[name][yaxis]))\n",
    "\n",
    "    print(numpy.around(numpy.array(D), decimals=3))\n",
    "\n",
    "load_jsons([\"logdir_mlpmixer/logdir_bs\" + str(P) for P in [128, 256, 512, 1024]], [\"bs\"+str(P) for P in [128, 256, 512, 1024]], \"logdir_mlpmixer\")\n",
    "load_jsons([\"logdir_mlpmixer/logdir_lr\" + str(P) for P in [\"0.1\", \"0.01\", \"0.001\", \"0.0001\", \"0.00001\"]], [\"lr\"+str(P) for P in [\"0.1\", \"0.01\", \"0.001\", \"0.0001\", \"0.00001\"]], \"logdir_mlpmixer\")\n",
    "load_jsons([\"logdir_mlpmixer/logdir_wd\" + str(P) for P in [\"0.05\", \"0.005\", \"0.0005\", \"0.00005\", \"0.000005\"]], [\"wd\"+str(P) for P in [\"0.05\", \"0.005\", \"0.0005\", \"0.00005\", \"0.000005\"]], \"logdir_mlpmixer\")\n",
    "load_jsons([\"logdir_mlpmixer/logdir_\" + str(P) for P in [\"adam\", \"adamw\", \"sgd\", \"momentum\"]], [str(P) for P in [\"adam\", \"adamw\", \"sgd\", \"momentum\"]], \"logdir_mlpmixer\")\n",
    "load_jsons([\"logdir_mlpmixer/logdir_C\" + str(P) for P in [32,64,128,256,512,1024]], [\"C\"+str(P) for P in [32,64,128,256,512,1024]], \"logdir_mlpmixer\")\n",
    "# bs=128, lr=0.001, wd=?, op=adam\n"
   ],
   "metadata": {
    "collapsed": false
   }
  },
  {
   "cell_type": "code",
   "execution_count": 46,
   "outputs": [
    {
     "name": "stdout",
     "output_type": "stream",
     "text": [
      "[0.93144531 0.91700368 0.92920121 0.90645568]\n",
      "[0.77871094 0.91425781 0.92929688 0.92519531 0.778125  ]\n",
      "[0.93808594 0.93808594 0.921875   0.93300781 0.92851563]\n",
      "[0.93105469 0.9328125  0.71054688 0.91621094]\n"
     ]
    }
   ],
   "source": [
    "load_jsons([\"logdir_resnet18/logdir_bs\" + str(P) for P in [128, 256, 512, 1024]], [\"bs\"+str(P) for P in [128, 256, 512, 1024]], \"logdir_resnet18\")\n",
    "# print()\n",
    "load_jsons([\"logdir_resnet18/logdir_\" + str(P) for P in [\"0.1\", \"0.01\", \"0.001\", \"0.0001\", \"0.00001\"]], [\"lr\"+str(P) for P in [\"0.1\", \"0.01\", \"0.001\", \"0.0001\", \"0.00001\"]], \"logdir_resnet18\")\n",
    "# print()\n",
    "load_jsons([\"logdir_resnet18/logdir_w\" + str(P) for P in [\"0.05\", \"0.005\", \"0.0005\", \"0.00005\", \"0.000005\"]], [\"wd\"+str(P) for P in [\"0.05\", \"0.005\", \"0.0005\", \"0.00005\", \"0.000005\"]], \"logdir_resnet18\")\n",
    "# print()\n",
    "load_jsons([\"logdir_resnet18/logdir_\" + str(P) for P in [\"adam\", \"adamw\", \"sgd\", \"momentum\"]], [str(P) for P in [\"adam\", \"adamw\", \"sgd\", \"momentum\"]], \"logdir_resnet18\")\n",
    "\n",
    "# bs=128, lr=0.001, wd=0.005, op=adamw"
   ],
   "metadata": {
    "collapsed": false
   }
  }
 ],
 "metadata": {
  "kernelspec": {
   "display_name": "Python 3",
   "language": "python",
   "name": "python3"
  },
  "language_info": {
   "codemirror_mode": {
    "name": "ipython",
    "version": 2
   },
   "file_extension": ".py",
   "mimetype": "text/x-python",
   "name": "python",
   "nbconvert_exporter": "python",
   "pygments_lexer": "ipython2",
   "version": "2.7.6"
  }
 },
 "nbformat": 4,
 "nbformat_minor": 0
}
